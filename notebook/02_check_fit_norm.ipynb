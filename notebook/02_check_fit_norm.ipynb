{
 "cells": [
  {
   "cell_type": "markdown",
   "metadata": {
    "collapsed": true,
    "pycharm": {
     "name": "#%% md\n"
    }
   },
   "source": [
    "Bybitの約定データの分布を確認する。\n"
   ]
  },
  {
   "cell_type": "markdown",
   "source": [
    "　\n",
    "## やりたいこと\n",
    "\n",
    "### 約定データを分析する。\n",
    "\n",
    "#### 統計量の表示\n",
    "\n",
    "#### 分布のグラフ化\n",
    "まずは約定価格の頻度をプロットする。\n",
    "seabonのdistplot関数を使う。\n",
    "https://seaborn.pydata.org/generated/seaborn.distplot.html\n",
    "sns.distplot(data, fit=norm, bins=50)\n",
    "\n",
    "#### 対数収益率\n",
    "\n",
    "#### ドルバー\n",
    "\n"
   ],
   "metadata": {
    "collapsed": false,
    "pycharm": {
     "name": "#%% md\n"
    }
   }
  },
  {
   "cell_type": "code",
   "execution_count": 4,
   "outputs": [],
   "source": [
    "import datetime\n",
    "import time\n",
    "\n",
    "import scipy.stats as stats\n",
    "from scipy.stats import norm, t\n",
    "from matplotlib import pyplot as plt\n",
    "import seaborn as sns\n",
    "from numpy.random import randn\n",
    "import os\n",
    "from urllib import request\n",
    "import pandas as pd\n",
    "import datetime"
   ],
   "metadata": {
    "collapsed": false,
    "pycharm": {
     "name": "#%%\n"
    }
   }
  },
  {
   "cell_type": "code",
   "execution_count": 43,
   "outputs": [],
   "source": [
    "def get_bb_log(yyyy, mm, dd, symbol=\"BTCUSD\"):\n",
    "    '''\n",
    "    bybitからパラメーターに指定された日付の約定データを/tmpにダウンロードする。\n",
    "    /tmpに一時保存することでキャッシュ機能を実現\n",
    "    :param yyyy: 年（４桁）\n",
    "    :param mm: 月\n",
    "    :param dd: 日\n",
    "    :param symbol: オプション：ディフォルトBTCUSD\n",
    "    :return: /tmpにダウンロードしたファイル名\n",
    "    '''\n",
    "    file_name = f'{symbol}{yyyy:04d}-{mm:02d}-{dd:02d}.csv.gz'\n",
    "    tmp_file = '/tmp/'+ file_name\n",
    "\n",
    "    if not os.path.exists(tmp_file):\n",
    "        download_url = f'https://public.bybit.com/trading/{symbol}/{file_name}'\n",
    "        print(\"download url=\", download_url)\n",
    "        request.urlretrieve(download_url, tmp_file)\n",
    "\n",
    "    return tmp_file\n",
    "\n",
    "def get_bb_df(yyyy, mm, dd):\n",
    "    '''\n",
    "    bybitから約定データをダウンロードしpandasのDataFrameオブジェクトにする。\n",
    "    :param yyyy: 年（４桁）\n",
    "    :param mm: 月\n",
    "    :param dd: 日\n",
    "    :return: 約定データが入ったDataFrame\n",
    "    '''\n",
    "    file = get_bb_log(yyyy, mm, dd)\n",
    "\n",
    "    bb_df = pd.read_csv(file, index_col=0)\n",
    "    bb_df.index = pd.to_datetime(bb_df.index, utc=True, unit='s')\n",
    "\n",
    "    return bb_df\n",
    "\n",
    "\n",
    "def resample_ohlcv(data, sample_time):\n",
    "    '''\n",
    "    約定データからohlcvを作成する。\n",
    "    timeに指定できるパラメータは文字列で以下のように指定する。\n",
    "    15秒:'15S' / 1分: '1T' / 1時間: '1H'\n",
    "    詳細はpadnasのドキュメント\n",
    "    https://pandas.pydata.org/pandas-docs/stable/user_guide/timeseries.html#offset-aliases\n",
    "    :param data:　bybitの約定データの入ったDataFrame\n",
    "    :param sample_time: サンプル間隔\n",
    "    :return: ohlcvデータ\n",
    "    '''\n",
    "    resample_df = data['price'].resample(sample_time).ohlc()\n",
    "    resample_df['volume'] = data['size'].resample(sample_time).sum()\n",
    "    return resample_df\n",
    "\n",
    "def get_bb_df_past_days(days=10, start_day = None):\n",
    "    if not start_day:\n",
    "        start_day = datetime.date.today() - datetime.timedelta(days=days+2)\n",
    "    print(start_day, \"->\", start_day + datetime.timedelta(days=days))\n",
    "\n",
    "    df = None\n",
    "    for i in range(days):\n",
    "        target_day = start_day + datetime.timedelta(days=i)\n",
    "        download_df = get_bb_df(target_day.year, target_day.month, target_day.day)\n",
    "        if df is None:\n",
    "            df = download_df\n",
    "        else:\n",
    "            df = df.append(download_df)\n",
    "\n",
    "    return df\n",
    "\n",
    "\n",
    "def show_dist(data):\n",
    "    sns.distplot(data, fit=norm, bins=50)\n",
    "    plt.show()\n",
    "\n",
    "def probplot(data):\n",
    "    stats.probplot(data, plot=plt)\n",
    "    plt.show()\n",
    "\n",
    "def show_stats(data):\n",
    "    w = stats.shapiro(data)\n",
    "    print(\"sharp ratio=\", w)\n",
    "\n",
    "    k = stats.kstest(data, 'norm')\n",
    "    print(\"KS ratio=\", k)\n",
    "\n",
    "\n",
    "def compare_normal_dist(data):\n",
    "    show_dist(data)\n",
    "    probplot(data)\n",
    "    show_stats(data)"
   ],
   "metadata": {
    "collapsed": false,
    "pycharm": {
     "name": "#%%\n"
    }
   }
  },
  {
   "cell_type": "markdown",
   "source": [
    "正規分布での確認"
   ],
   "metadata": {
    "collapsed": false,
    "pycharm": {
     "name": "#%% md\n"
    }
   }
  },
  {
   "cell_type": "code",
   "execution_count": 44,
   "outputs": [
    {
     "name": "stdout",
     "output_type": "stream",
     "text": [
      "2021-09-21 -> 2021-09-24\n"
     ]
    }
   ],
   "source": [
    "df = get_bb_df_past_days(3)"
   ],
   "metadata": {
    "collapsed": false,
    "pycharm": {
     "name": "#%%\n"
    }
   }
  },
  {
   "cell_type": "code",
   "execution_count": 45,
   "outputs": [
    {
     "name": "stdout",
     "output_type": "stream",
     "text": [
      "                                     symbol side  size    price  \\\n",
      "timestamp                                                         \n",
      "2021-09-21 23:59:59.980000+00:00     BTCUSD  Buy  1654  40711.0   \n",
      "2021-09-21 23:59:59.938999808+00:00  BTCUSD  Buy   796  40711.0   \n",
      "2021-09-21 23:59:59.938999808+00:00  BTCUSD  Buy     1  40711.0   \n",
      "2021-09-21 23:59:59.938999808+00:00  BTCUSD  Buy     3  40711.0   \n",
      "2021-09-21 23:59:59.938999808+00:00  BTCUSD  Buy   427  40710.5   \n",
      "\n",
      "                                     tickDirection  \\\n",
      "timestamp                                            \n",
      "2021-09-21 23:59:59.980000+00:00     ZeroMinusTick   \n",
      "2021-09-21 23:59:59.938999808+00:00  ZeroMinusTick   \n",
      "2021-09-21 23:59:59.938999808+00:00  ZeroMinusTick   \n",
      "2021-09-21 23:59:59.938999808+00:00       PlusTick   \n",
      "2021-09-21 23:59:59.938999808+00:00  ZeroMinusTick   \n",
      "\n",
      "                                                               trdMatchID  \\\n",
      "timestamp                                                                   \n",
      "2021-09-21 23:59:59.980000+00:00     285b3e02-4435-51e9-921e-ad7ea6b6b0b9   \n",
      "2021-09-21 23:59:59.938999808+00:00  5fca4191-aa0f-50ed-8ea6-41cefcf3df98   \n",
      "2021-09-21 23:59:59.938999808+00:00  3e1cd757-0e60-537b-b0f0-bd5fe2c60b70   \n",
      "2021-09-21 23:59:59.938999808+00:00  53ce2ace-29dc-54af-b647-3f4009b73465   \n",
      "2021-09-21 23:59:59.938999808+00:00  067a1812-0327-5a83-b5d0-3d85559c831b   \n",
      "\n",
      "                                     grossValue  homeNotional  foreignNotional  \n",
      "timestamp                                                                       \n",
      "2021-09-21 23:59:59.980000+00:00      4062784.0          1654         0.040628  \n",
      "2021-09-21 23:59:59.938999808+00:00   1955245.0           796         0.019552  \n",
      "2021-09-21 23:59:59.938999808+00:00      2456.0             1         0.000025  \n",
      "2021-09-21 23:59:59.938999808+00:00      7369.0             3         0.000074  \n",
      "2021-09-21 23:59:59.938999808+00:00   1048869.0           427         0.010489  \n",
      "                                     symbol  side   size    price  \\\n",
      "timestamp                                                           \n",
      "2021-09-23 00:00:01.835000064+00:00  BTCUSD   Buy     30  43550.5   \n",
      "2021-09-23 00:00:01.803000064+00:00  BTCUSD   Buy      6  43550.5   \n",
      "2021-09-23 00:00:01.528999936+00:00  BTCUSD  Sell  20000  43550.0   \n",
      "2021-09-23 00:00:00.263000064+00:00  BTCUSD   Buy  30771  43550.5   \n",
      "2021-09-23 00:00:00.263000064+00:00  BTCUSD   Buy  19229  43550.5   \n",
      "\n",
      "                                     tickDirection  \\\n",
      "timestamp                                            \n",
      "2021-09-23 00:00:01.835000064+00:00  ZeroMinusTick   \n",
      "2021-09-23 00:00:01.803000064+00:00       PlusTick   \n",
      "2021-09-23 00:00:01.528999936+00:00      MinusTick   \n",
      "2021-09-23 00:00:00.263000064+00:00  ZeroMinusTick   \n",
      "2021-09-23 00:00:00.263000064+00:00      MinusTick   \n",
      "\n",
      "                                                               trdMatchID  \\\n",
      "timestamp                                                                   \n",
      "2021-09-23 00:00:01.835000064+00:00  ec649e62-32ba-5fcf-888b-f184131c28cd   \n",
      "2021-09-23 00:00:01.803000064+00:00  ebfe94db-3e0b-5a93-b58b-9c48a2c79e7c   \n",
      "2021-09-23 00:00:01.528999936+00:00  64c02924-4c90-560d-9a18-70b2399e8d29   \n",
      "2021-09-23 00:00:00.263000064+00:00  93791fd3-0afb-5aec-98d9-1059321f88f6   \n",
      "2021-09-23 00:00:00.263000064+00:00  2a270265-2a6a-54c7-a92b-552790920e5a   \n",
      "\n",
      "                                     grossValue  homeNotional  foreignNotional  \n",
      "timestamp                                                                       \n",
      "2021-09-23 00:00:01.835000064+00:00     68885.0            30         0.000689  \n",
      "2021-09-23 00:00:01.803000064+00:00     13777.0             6         0.000138  \n",
      "2021-09-23 00:00:01.528999936+00:00  45924225.0         20000         0.459242  \n",
      "2021-09-23 00:00:00.263000064+00:00  70655905.0         30771         0.706559  \n",
      "2021-09-23 00:00:00.263000064+00:00  44153339.0         19229         0.441533  \n"
     ]
    }
   ],
   "source": [
    "print(df.head())\n",
    "print(df.tail())"
   ],
   "metadata": {
    "collapsed": false,
    "pycharm": {
     "name": "#%%\n"
    }
   }
  },
  {
   "cell_type": "code",
   "execution_count": 46,
   "outputs": [
    {
     "name": "stderr",
     "output_type": "stream",
     "text": [
      "/Users/takeoyasukawa/Projects/bbanalyze/venv/lib/python3.9/site-packages/seaborn/distributions.py:2619: FutureWarning: `distplot` is a deprecated function and will be removed in a future version. Please adapt your code to use either `displot` (a figure-level function with similar flexibility) or `histplot` (an axes-level function for histograms).\n",
      "  warnings.warn(msg, FutureWarning)\n"
     ]
    },
    {
     "data": {
      "text/plain": "<Figure size 432x288 with 1 Axes>",
      "image/png": "[encoded data removed]"
     },
     "metadata": {
      "needs_background": "light"
     },
     "output_type": "display_data"
    }
   ],
   "source": [
    "\n",
    "show_dist(df['price'])"
   ],
   "metadata": {
    "collapsed": false,
    "pycharm": {
     "name": "#%%\n"
    }
   }
  },
  {
   "cell_type": "code",
   "execution_count": 7,
   "outputs": [
    {
     "name": "stderr",
     "output_type": "stream",
     "text": [
      "/Users/takeoyasukawa/Projects/bbanalyze/venv/lib/python3.9/site-packages/seaborn/distributions.py:2619: FutureWarning: `distplot` is a deprecated function and will be removed in a future version. Please adapt your code to use either `displot` (a figure-level function with similar flexibility) or `histplot` (an axes-level function for histograms).\n",
      "  warnings.warn(msg, FutureWarning)\n"
     ]
    },
    {
     "data": {
      "text/plain": "<Figure size 432x288 with 1 Axes>",
      "image/png": "[encoded data removed]"
     },
     "metadata": {
      "needs_background": "light"
     },
     "output_type": "display_data"
    },
    {
     "data": {
      "text/plain": "<Figure size 432x288 with 1 Axes>",
      "image/png": "[encoded data removed]"
     },
     "metadata": {
      "needs_background": "light"
     },
     "output_type": "display_data"
    },
    {
     "name": "stdout",
     "output_type": "stream",
     "text": [
      "sharp ratio= ShapiroResult(statistic=0.9974300861358643, pvalue=0.11586377769708633)\n",
      "KS ratio= KstestResult(statistic=0.041384962633233435, pvalue=0.06326273708336805)\n"
     ]
    }
   ],
   "source": [
    "compare_normal_dist(r)"
   ],
   "metadata": {
    "collapsed": false,
    "pycharm": {
     "name": "#%%\n"
    }
   }
  },
  {
   "cell_type": "code",
   "execution_count": null,
   "outputs": [],
   "source": [],
   "metadata": {
    "collapsed": false,
    "pycharm": {
     "name": "#%%\n"
    }
   }
  }
 ],
 "metadata": {
  "kernelspec": {
   "name": "pycharm-9c763b57",
   "language": "python",
   "display_name": "PyCharm (bbanalyze)"
  },
  "language_info": {
   "codemirror_mode": {
    "name": "ipython",
    "version": 2
   },
   "file_extension": ".py",
   "mimetype": "text/x-python",
   "name": "python",
   "nbconvert_exporter": "python",
   "pygments_lexer": "ipython2",
   "version": "2.7.6"
  }
 },
 "nbformat": 4,
 "nbformat_minor": 0
}