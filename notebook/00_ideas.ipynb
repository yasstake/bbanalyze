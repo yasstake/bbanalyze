{
 "cells": [
  {
   "cell_type": "markdown",
   "metadata": {
    "collapsed": true,
    "pycharm": {
     "name": "#%% md\n"
    }
   },
   "source": [
    "## 統計的特性の時間変化\n",
    "\n",
    "$\n",
    "y = a x + b \\epsilon\n",
    "$\n",
    "\n",
    "としたときのa, bが時間単位でどう変化するか確認する。\n",
    "データが重ならないようにN分間隔でデータを分割し、それぞれでのa,bを計算し、自己相関を確認する。\n",
    "\n",
    "ある程度相関があれば、将来を予測可能（直前の結果に影響をうける）と言えるのではないか？\n",
    "\n",
    "\n",
    "\n"
   ]
  }
 ],
 "metadata": {
  "kernelspec": {
   "name": "pycharm-9c763b57",
   "language": "python",
   "display_name": "PyCharm (bbanalyze)"
  },
  "language_info": {
   "codemirror_mode": {
    "name": "ipython",
    "version": 2
   },
   "file_extension": ".py",
   "mimetype": "text/x-python",
   "name": "python",
   "nbconvert_exporter": "python",
   "pygments_lexer": "ipython2",
   "version": "2.7.6"
  }
 },
 "nbformat": 4,
 "nbformat_minor": 0
}