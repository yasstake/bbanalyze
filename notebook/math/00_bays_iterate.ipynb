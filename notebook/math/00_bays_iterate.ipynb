{
 "cells": [
  {
   "cell_type": "markdown",
   "metadata": {
    "collapsed": true,
    "pycharm": {
     "name": "#%% md\n"
    }
   },
   "source": [
    "## ベイズ更新\n",
    "\n",
    "### ベイズの定理\n",
    "$\n",
    "f(\\theta | D) = \\frac{f(D|\\theta)f(\\theta)}{f(D)}\n",
    "$\n",
    "\n",
    "$\n",
    "(事後分布）= \\frac{(尤度関数)(事前分布)}{(エビデンス)}\n",
    "$\n",
    "\n",
    "### 観測データが順次増えた場合に確率を更新していく＝ベイズ更新\n",
    "\n",
    "#### データがN個\n",
    "\n",
    "$\n",
    "p(x| y_1...y_n) \\propto \\Sigma_n p(x|y_n)p(x)\n",
    "$\n",
    "\n",
    "#### データが１つ\n",
    "\n",
    "$\n",
    "p(x|y)  \\propto p(y_1|x) p(x)1\n",
    "$\n",
    "\n",
    "#### データが２つ\n",
    "\n",
    "$\n",
    "p(x| y_1, y_2) \\propto p(y_2|x)p(y_1|x)p(x)\n",
    "$\n",
    "\n",
    "最後の $$p(y_1|x)p(x)$$ がベイズの定理より $$ p(x|y) $$ となるため、上式は以下となる。\n",
    "\n",
    "$\n",
    "p(x|y_1,y_2) \\propto p(y_2|x)p(x|y)\n",
    "$\n",
    "\n"
   ]
  },
  {
   "cell_type": "code",
   "execution_count": 4,
   "outputs": [],
   "source": [
    "import matplotlib.pyplot as plt\n",
    "from scipy.stats import bernoulli\n",
    "import numpy as np\n",
    "import pandas as pd\n",
    "\n",
    "plt.style.use('ggplot')"
   ],
   "metadata": {
    "collapsed": false,
    "pycharm": {
     "name": "#%%\n"
    }
   }
  },
  {
   "cell_type": "markdown",
   "source": [
    "https://docs.scipy.org/doc/scipy/reference/generated/scipy.stats.bernoulli.html\n"
   ],
   "metadata": {
    "collapsed": false,
    "pycharm": {
     "name": "#%% md\n"
    }
   }
  },
  {
   "cell_type": "code",
   "execution_count": 26,
   "outputs": [],
   "source": [
    "p_a = 3.0  / 10.0\n",
    "p_b = 5.0 / 9.0\n",
    "p_prior = 0.5\n",
    "data = [0, 1, 0, 0, 1,1,1]\n",
    "\n",
    "N_data = 7\n",
    "likehoood_a = bernoulli.pmf(data[:N_data], p_a)\n",
    "likehoood_b = bernoulli.pmf(data[:N_data], p_b)\n",
    "\n"
   ],
   "metadata": {
    "collapsed": false,
    "pycharm": {
     "name": "#%%\n"
    }
   }
  },
  {
   "cell_type": "code",
   "execution_count": 27,
   "outputs": [
    {
     "data": {
      "text/plain": "array([0.7, 0.3, 0.7, 0.7, 0.3, 0.3, 0.3])"
     },
     "execution_count": 27,
     "metadata": {},
     "output_type": "execute_result"
    }
   ],
   "source": [
    "likehoood_a"
   ],
   "metadata": {
    "collapsed": false,
    "pycharm": {
     "name": "#%%\n"
    }
   }
  },
  {
   "cell_type": "code",
   "execution_count": 28,
   "outputs": [
    {
     "data": {
      "text/plain": "([<matplotlib.axis.XTick at 0x15452ca60>,\n  <matplotlib.axis.XTick at 0x15452ce50>],\n [Text(0, 0, 'a'), Text(1, 0, 'b')])"
     },
     "execution_count": 28,
     "metadata": {},
     "output_type": "execute_result"
    },
    {
     "data": {
      "text/plain": "<Figure size 432x288 with 1 Axes>",
      "image/png": "[encoded data removed]"
     },
     "metadata": {},
     "output_type": "display_data"
    }
   ],
   "source": [
    "pa_posteria = p_prior\n",
    "pb_posteria = p_prior\n",
    "\n",
    "pa_posteria *= np.prod(likehoood_a)\n",
    "pb_posteria *= np.prod(likehoood_b)\n",
    "\n",
    "norm = pa_posteria + pb_posteria\n",
    "\n",
    "df = pd.DataFrame([pa_posteria/norm, pb_posteria/norm], columns=['post'])\n",
    "x = np.arange(df.shape[0])\n",
    "plt.bar(x, df['post'])\n",
    "plt.xticks(x, ['a', 'b'])\n"
   ],
   "metadata": {
    "collapsed": false,
    "pycharm": {
     "name": "#%%\n"
    }
   }
  },
  {
   "cell_type": "code",
   "execution_count": 29,
   "outputs": [
    {
     "data": {
      "text/plain": "0.0013891499999999998"
     },
     "execution_count": 29,
     "metadata": {},
     "output_type": "execute_result"
    }
   ],
   "source": [
    "pa_posteria"
   ],
   "metadata": {
    "collapsed": false,
    "pycharm": {
     "name": "#%%\n"
    }
   }
  },
  {
   "cell_type": "code",
   "execution_count": 13,
   "outputs": [
    {
     "data": {
      "text/plain": "0.12345679012345678"
     },
     "execution_count": 13,
     "metadata": {},
     "output_type": "execute_result"
    }
   ],
   "source": [
    "pb_posteria"
   ],
   "metadata": {
    "collapsed": false,
    "pycharm": {
     "name": "#%%\n"
    }
   }
  },
  {
   "cell_type": "code",
   "execution_count": null,
   "outputs": [],
   "source": [],
   "metadata": {
    "collapsed": false,
    "pycharm": {
     "name": "#%%\n"
    }
   }
  }
 ],
 "metadata": {
  "kernelspec": {
   "name": "pycharm-9c763b57",
   "language": "python",
   "display_name": "PyCharm (bbanalyze)"
  },
  "language_info": {
   "codemirror_mode": {
    "name": "ipython",
    "version": 2
   },
   "file_extension": ".py",
   "mimetype": "text/x-python",
   "name": "python",
   "nbconvert_exporter": "python",
   "pygments_lexer": "ipython2",
   "version": "2.7.6"
  }
 },
 "nbformat": 4,
 "nbformat_minor": 0
}