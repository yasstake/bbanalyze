{
 "cells": [
  {
   "cell_type": "code",
   "execution_count": 1,
   "metadata": {
    "collapsed": true
   },
   "outputs": [],
   "source": [
    "import numpy as np\n",
    "import pandas as pd\n",
    "from matplotlib import pyplot as plt\n",
    "\n"
   ]
  },
  {
   "cell_type": "code",
   "execution_count": 3,
   "outputs": [
    {
     "data": {
      "text/plain": "                               symbol  side    size    price  tickDirection  \\\ntimestamp                                                                     \n2021-08-31 23:59:59.368999936  BTCUSD  Sell   63525  47177.0      MinusTick   \n2021-08-31 23:59:57.556000000  BTCUSD   Buy       1  47177.5  ZeroMinusTick   \n2021-08-31 23:59:57.555000064  BTCUSD   Buy       1  47177.5       PlusTick   \n2021-08-31 23:59:57.499000064  BTCUSD  Sell       1  47177.0      MinusTick   \n2021-08-31 23:59:57.499000064  BTCUSD  Sell    1000  47178.5       PlusTick   \n...                               ...   ...     ...      ...            ...   \n2021-08-31 00:00:00.332000000  BTCUSD  Sell   50000  46992.5  ZeroMinusTick   \n2021-08-31 00:00:00.168999936  BTCUSD  Sell  171270  46992.5  ZeroMinusTick   \n2021-08-31 00:00:00.168999936  BTCUSD  Sell  108000  46992.5  ZeroMinusTick   \n2021-08-31 00:00:00.168999936  BTCUSD  Sell  163967  46992.5  ZeroMinusTick   \n2021-08-31 00:00:00.168999936  BTCUSD  Sell     297  46992.5      MinusTick   \n\n                                                         trdMatchID  \\\ntimestamp                                                             \n2021-08-31 23:59:59.368999936  6d9f8a12-788a-5f4c-9686-282084d9917e   \n2021-08-31 23:59:57.556000000  e947e254-3bca-56b0-a300-93e9fedfb5b3   \n2021-08-31 23:59:57.555000064  39c67b5c-ef63-5c49-874f-33d9f08a3ced   \n2021-08-31 23:59:57.499000064  20be49ee-fdb1-577f-9fdb-c5d2a76fcd81   \n2021-08-31 23:59:57.499000064  93357df4-4a39-5fa9-93d2-ee2111d27957   \n...                                                             ...   \n2021-08-31 00:00:00.332000000  29368f9d-391f-5fcd-b494-6186f2f5a740   \n2021-08-31 00:00:00.168999936  5aa1100d-cd9b-52e1-8825-069201d805bc   \n2021-08-31 00:00:00.168999936  b5f666f7-cd59-5f20-ac43-a05c87465f1e   \n2021-08-31 00:00:00.168999936  dff903b8-3cea-5c99-bb1d-51d616fcc081   \n2021-08-31 00:00:00.168999936  2c9f9833-cedd-5f9c-a285-162ce12f5977   \n\n                                grossValue  homeNotional  foreignNotional  \ntimestamp                                                                  \n2021-08-31 23:59:59.368999936  134652478.0         63525         1.346525  \n2021-08-31 23:59:57.556000000       2119.0             1         0.000021  \n2021-08-31 23:59:57.555000064       2119.0             1         0.000021  \n2021-08-31 23:59:57.499000064       2119.0             1         0.000021  \n2021-08-31 23:59:57.499000064    2119609.0          1000         0.021196  \n...                                    ...           ...              ...  \n2021-08-31 00:00:00.332000000  106399957.0         50000         1.064000  \n2021-08-31 00:00:00.168999936  364462414.0        171270         3.644624  \n2021-08-31 00:00:00.168999936  229823908.0        108000         2.298239  \n2021-08-31 00:00:00.168999936  348921636.0        163967         3.489216  \n2021-08-31 00:00:00.168999936     632015.0           297         0.006320  \n\n[756617 rows x 9 columns]",
      "text/html": "<div>\n<style scoped>\n    .dataframe tbody tr th:only-of-type {\n        vertical-align: middle;\n    }\n\n    .dataframe tbody tr th {\n        vertical-align: top;\n    }\n\n    .dataframe thead th {\n        text-align: right;\n    }\n</style>\n<table border=\"1\" class=\"dataframe\">\n  <thead>\n    <tr style=\"text-align: right;\">\n      <th></th>\n      <th>symbol</th>\n      <th>side</th>\n      <th>size</th>\n      <th>price</th>\n      <th>tickDirection</th>\n      <th>trdMatchID</th>\n      <th>grossValue</th>\n      <th>homeNotional</th>\n      <th>foreignNotional</th>\n    </tr>\n    <tr>\n      <th>timestamp</th>\n      <th></th>\n      <th></th>\n      <th></th>\n      <th></th>\n      <th></th>\n      <th></th>\n      <th></th>\n      <th></th>\n      <th></th>\n    </tr>\n  </thead>\n  <tbody>\n    <tr>\n      <th>2021-08-31 23:59:59.368999936</th>\n      <td>BTCUSD</td>\n      <td>Sell</td>\n      <td>63525</td>\n      <td>47177.0</td>\n      <td>MinusTick</td>\n      <td>6d9f8a12-788a-5f4c-9686-282084d9917e</td>\n      <td>134652478.0</td>\n      <td>63525</td>\n      <td>1.346525</td>\n    </tr>\n    <tr>\n      <th>2021-08-31 23:59:57.556000000</th>\n      <td>BTCUSD</td>\n      <td>Buy</td>\n      <td>1</td>\n      <td>47177.5</td>\n      <td>ZeroMinusTick</td>\n      <td>e947e254-3bca-56b0-a300-93e9fedfb5b3</td>\n      <td>2119.0</td>\n      <td>1</td>\n      <td>0.000021</td>\n    </tr>\n    <tr>\n      <th>2021-08-31 23:59:57.555000064</th>\n      <td>BTCUSD</td>\n      <td>Buy</td>\n      <td>1</td>\n      <td>47177.5</td>\n      <td>PlusTick</td>\n      <td>39c67b5c-ef63-5c49-874f-33d9f08a3ced</td>\n      <td>2119.0</td>\n      <td>1</td>\n      <td>0.000021</td>\n    </tr>\n    <tr>\n      <th>2021-08-31 23:59:57.499000064</th>\n      <td>BTCUSD</td>\n      <td>Sell</td>\n      <td>1</td>\n      <td>47177.0</td>\n      <td>MinusTick</td>\n      <td>20be49ee-fdb1-577f-9fdb-c5d2a76fcd81</td>\n      <td>2119.0</td>\n      <td>1</td>\n      <td>0.000021</td>\n    </tr>\n    <tr>\n      <th>2021-08-31 23:59:57.499000064</th>\n      <td>BTCUSD</td>\n      <td>Sell</td>\n      <td>1000</td>\n      <td>47178.5</td>\n      <td>PlusTick</td>\n      <td>93357df4-4a39-5fa9-93d2-ee2111d27957</td>\n      <td>2119609.0</td>\n      <td>1000</td>\n      <td>0.021196</td>\n    </tr>\n    <tr>\n      <th>...</th>\n      <td>...</td>\n      <td>...</td>\n      <td>...</td>\n      <td>...</td>\n      <td>...</td>\n      <td>...</td>\n      <td>...</td>\n      <td>...</td>\n      <td>...</td>\n    </tr>\n    <tr>\n      <th>2021-08-31 00:00:00.332000000</th>\n      <td>BTCUSD</td>\n      <td>Sell</td>\n      <td>50000</td>\n      <td>46992.5</td>\n      <td>ZeroMinusTick</td>\n      <td>29368f9d-391f-5fcd-b494-6186f2f5a740</td>\n      <td>106399957.0</td>\n      <td>50000</td>\n      <td>1.064000</td>\n    </tr>\n    <tr>\n      <th>2021-08-31 00:00:00.168999936</th>\n      <td>BTCUSD</td>\n      <td>Sell</td>\n      <td>171270</td>\n      <td>46992.5</td>\n      <td>ZeroMinusTick</td>\n      <td>5aa1100d-cd9b-52e1-8825-069201d805bc</td>\n      <td>364462414.0</td>\n      <td>171270</td>\n      <td>3.644624</td>\n    </tr>\n    <tr>\n      <th>2021-08-31 00:00:00.168999936</th>\n      <td>BTCUSD</td>\n      <td>Sell</td>\n      <td>108000</td>\n      <td>46992.5</td>\n      <td>ZeroMinusTick</td>\n      <td>b5f666f7-cd59-5f20-ac43-a05c87465f1e</td>\n      <td>229823908.0</td>\n      <td>108000</td>\n      <td>2.298239</td>\n    </tr>\n    <tr>\n      <th>2021-08-31 00:00:00.168999936</th>\n      <td>BTCUSD</td>\n      <td>Sell</td>\n      <td>163967</td>\n      <td>46992.5</td>\n      <td>ZeroMinusTick</td>\n      <td>dff903b8-3cea-5c99-bb1d-51d616fcc081</td>\n      <td>348921636.0</td>\n      <td>163967</td>\n      <td>3.489216</td>\n    </tr>\n    <tr>\n      <th>2021-08-31 00:00:00.168999936</th>\n      <td>BTCUSD</td>\n      <td>Sell</td>\n      <td>297</td>\n      <td>46992.5</td>\n      <td>MinusTick</td>\n      <td>2c9f9833-cedd-5f9c-a285-162ce12f5977</td>\n      <td>632015.0</td>\n      <td>297</td>\n      <td>0.006320</td>\n    </tr>\n  </tbody>\n</table>\n<p>756617 rows × 9 columns</p>\n</div>"
     },
     "execution_count": 3,
     "metadata": {},
     "output_type": "execute_result"
    }
   ],
   "source": [
    "DATA_FILE = \"../DATA/BTCUSD2021-08-31.csv.gz\"\n",
    "\n",
    "df = pd.read_csv(DATA_FILE, index_col=0)\n",
    "\n",
    "df.index = pd.to_datetime(df.index*1_000_000_000)\n",
    "# df.set_index('timestamp')\n",
    "\n",
    "df"
   ],
   "metadata": {
    "collapsed": false,
    "pycharm": {
     "name": "#%%\n"
    }
   }
  },
  {
   "cell_type": "code",
   "execution_count": 4,
   "outputs": [
    {
     "data": {
      "text/plain": "                size          price    grossValue   homeNotional  \\\ncount  756617.000000  756617.000000  7.566170e+05  756617.000000   \nmean     6360.802508   47415.148175  1.340557e+07    6360.802508   \nstd     23411.113102     374.611364  4.932786e+07   23411.113102   \nmin         1.000000   46712.000000  2.069000e+03       1.000000   \n25%         6.000000   47118.000000  1.267300e+04       6.000000   \n50%       296.000000   47374.500000  6.227940e+05     296.000000   \n75%      3000.000000   47732.000000  6.321645e+06    3000.000000   \nmax    930088.000000   48323.000000  1.946809e+09  930088.000000   \n\n       foreignNotional  \ncount    756617.000000  \nmean          0.134056  \nstd           0.493279  \nmin           0.000021  \n25%           0.000127  \n50%           0.006228  \n75%           0.063216  \nmax          19.468090  ",
      "text/html": "<div>\n<style scoped>\n    .dataframe tbody tr th:only-of-type {\n        vertical-align: middle;\n    }\n\n    .dataframe tbody tr th {\n        vertical-align: top;\n    }\n\n    .dataframe thead th {\n        text-align: right;\n    }\n</style>\n<table border=\"1\" class=\"dataframe\">\n  <thead>\n    <tr style=\"text-align: right;\">\n      <th></th>\n      <th>size</th>\n      <th>price</th>\n      <th>grossValue</th>\n      <th>homeNotional</th>\n      <th>foreignNotional</th>\n    </tr>\n  </thead>\n  <tbody>\n    <tr>\n      <th>count</th>\n      <td>756617.000000</td>\n      <td>756617.000000</td>\n      <td>7.566170e+05</td>\n      <td>756617.000000</td>\n      <td>756617.000000</td>\n    </tr>\n    <tr>\n      <th>mean</th>\n      <td>6360.802508</td>\n      <td>47415.148175</td>\n      <td>1.340557e+07</td>\n      <td>6360.802508</td>\n      <td>0.134056</td>\n    </tr>\n    <tr>\n      <th>std</th>\n      <td>23411.113102</td>\n      <td>374.611364</td>\n      <td>4.932786e+07</td>\n      <td>23411.113102</td>\n      <td>0.493279</td>\n    </tr>\n    <tr>\n      <th>min</th>\n      <td>1.000000</td>\n      <td>46712.000000</td>\n      <td>2.069000e+03</td>\n      <td>1.000000</td>\n      <td>0.000021</td>\n    </tr>\n    <tr>\n      <th>25%</th>\n      <td>6.000000</td>\n      <td>47118.000000</td>\n      <td>1.267300e+04</td>\n      <td>6.000000</td>\n      <td>0.000127</td>\n    </tr>\n    <tr>\n      <th>50%</th>\n      <td>296.000000</td>\n      <td>47374.500000</td>\n      <td>6.227940e+05</td>\n      <td>296.000000</td>\n      <td>0.006228</td>\n    </tr>\n    <tr>\n      <th>75%</th>\n      <td>3000.000000</td>\n      <td>47732.000000</td>\n      <td>6.321645e+06</td>\n      <td>3000.000000</td>\n      <td>0.063216</td>\n    </tr>\n    <tr>\n      <th>max</th>\n      <td>930088.000000</td>\n      <td>48323.000000</td>\n      <td>1.946809e+09</td>\n      <td>930088.000000</td>\n      <td>19.468090</td>\n    </tr>\n  </tbody>\n</table>\n</div>"
     },
     "execution_count": 4,
     "metadata": {},
     "output_type": "execute_result"
    }
   ],
   "source": [
    "df.describe()"
   ],
   "metadata": {
    "collapsed": false,
    "pycharm": {
     "name": "#%%\n"
    }
   }
  },
  {
   "cell_type": "code",
   "execution_count": 5,
   "outputs": [
    {
     "data": {
      "text/plain": "                size          price    grossValue   homeNotional  \\\ncount  374738.000000  374738.000000  3.747380e+05  374738.000000   \nmean     6450.958510   47438.948018  1.359554e+07    6450.958510   \nstd     23639.001251     376.950816  4.979388e+07   23639.001251   \nmin         1.000000   46712.500000  2.069000e+03       1.000000   \n25%         5.000000   47136.000000  1.066400e+04       5.000000   \n50%       300.000000   47392.000000  6.326570e+05     300.000000   \n75%      3000.000000   47766.500000  6.342494e+06    3000.000000   \nmax    930088.000000   48323.000000  1.946809e+09  930088.000000   \n\n       foreignNotional  \ncount    374738.000000  \nmean          0.135955  \nstd           0.497939  \nmin           0.000021  \n25%           0.000107  \n50%           0.006327  \n75%           0.063425  \nmax          19.468090  ",
      "text/html": "<div>\n<style scoped>\n    .dataframe tbody tr th:only-of-type {\n        vertical-align: middle;\n    }\n\n    .dataframe tbody tr th {\n        vertical-align: top;\n    }\n\n    .dataframe thead th {\n        text-align: right;\n    }\n</style>\n<table border=\"1\" class=\"dataframe\">\n  <thead>\n    <tr style=\"text-align: right;\">\n      <th></th>\n      <th>size</th>\n      <th>price</th>\n      <th>grossValue</th>\n      <th>homeNotional</th>\n      <th>foreignNotional</th>\n    </tr>\n  </thead>\n  <tbody>\n    <tr>\n      <th>count</th>\n      <td>374738.000000</td>\n      <td>374738.000000</td>\n      <td>3.747380e+05</td>\n      <td>374738.000000</td>\n      <td>374738.000000</td>\n    </tr>\n    <tr>\n      <th>mean</th>\n      <td>6450.958510</td>\n      <td>47438.948018</td>\n      <td>1.359554e+07</td>\n      <td>6450.958510</td>\n      <td>0.135955</td>\n    </tr>\n    <tr>\n      <th>std</th>\n      <td>23639.001251</td>\n      <td>376.950816</td>\n      <td>4.979388e+07</td>\n      <td>23639.001251</td>\n      <td>0.497939</td>\n    </tr>\n    <tr>\n      <th>min</th>\n      <td>1.000000</td>\n      <td>46712.500000</td>\n      <td>2.069000e+03</td>\n      <td>1.000000</td>\n      <td>0.000021</td>\n    </tr>\n    <tr>\n      <th>25%</th>\n      <td>5.000000</td>\n      <td>47136.000000</td>\n      <td>1.066400e+04</td>\n      <td>5.000000</td>\n      <td>0.000107</td>\n    </tr>\n    <tr>\n      <th>50%</th>\n      <td>300.000000</td>\n      <td>47392.000000</td>\n      <td>6.326570e+05</td>\n      <td>300.000000</td>\n      <td>0.006327</td>\n    </tr>\n    <tr>\n      <th>75%</th>\n      <td>3000.000000</td>\n      <td>47766.500000</td>\n      <td>6.342494e+06</td>\n      <td>3000.000000</td>\n      <td>0.063425</td>\n    </tr>\n    <tr>\n      <th>max</th>\n      <td>930088.000000</td>\n      <td>48323.000000</td>\n      <td>1.946809e+09</td>\n      <td>930088.000000</td>\n      <td>19.468090</td>\n    </tr>\n  </tbody>\n</table>\n</div>"
     },
     "execution_count": 5,
     "metadata": {},
     "output_type": "execute_result"
    }
   ],
   "source": [
    "buy_df = df[df[\"side\"] == \"Buy\"]\n",
    "buy_df.describe()"
   ],
   "metadata": {
    "collapsed": false,
    "pycharm": {
     "name": "#%%\n"
    }
   }
  },
  {
   "cell_type": "code",
   "execution_count": 6,
   "outputs": [
    {
     "data": {
      "text/plain": "                size          price    grossValue   homeNotional  \\\ncount  381879.000000  381879.000000  3.818790e+05  381879.000000   \nmean     6272.332391   47391.793381  1.321915e+07    6272.332391   \nstd     23184.999168     370.819885  4.886559e+07   23184.999168   \nmin         1.000000   46712.000000  2.069000e+03       1.000000   \n25%         7.000000   47100.000000  1.481000e+04       7.000000   \n50%       272.000000   47355.000000  5.736170e+05     272.000000   \n75%      3000.000000   47684.000000  6.293134e+06    3000.000000   \nmax    886540.000000   48314.000000  1.854686e+09  886540.000000   \n\n       foreignNotional  \ncount    381879.000000  \nmean          0.132192  \nstd           0.488656  \nmin           0.000021  \n25%           0.000148  \n50%           0.005736  \n75%           0.062931  \nmax          18.546862  ",
      "text/html": "<div>\n<style scoped>\n    .dataframe tbody tr th:only-of-type {\n        vertical-align: middle;\n    }\n\n    .dataframe tbody tr th {\n        vertical-align: top;\n    }\n\n    .dataframe thead th {\n        text-align: right;\n    }\n</style>\n<table border=\"1\" class=\"dataframe\">\n  <thead>\n    <tr style=\"text-align: right;\">\n      <th></th>\n      <th>size</th>\n      <th>price</th>\n      <th>grossValue</th>\n      <th>homeNotional</th>\n      <th>foreignNotional</th>\n    </tr>\n  </thead>\n  <tbody>\n    <tr>\n      <th>count</th>\n      <td>381879.000000</td>\n      <td>381879.000000</td>\n      <td>3.818790e+05</td>\n      <td>381879.000000</td>\n      <td>381879.000000</td>\n    </tr>\n    <tr>\n      <th>mean</th>\n      <td>6272.332391</td>\n      <td>47391.793381</td>\n      <td>1.321915e+07</td>\n      <td>6272.332391</td>\n      <td>0.132192</td>\n    </tr>\n    <tr>\n      <th>std</th>\n      <td>23184.999168</td>\n      <td>370.819885</td>\n      <td>4.886559e+07</td>\n      <td>23184.999168</td>\n      <td>0.488656</td>\n    </tr>\n    <tr>\n      <th>min</th>\n      <td>1.000000</td>\n      <td>46712.000000</td>\n      <td>2.069000e+03</td>\n      <td>1.000000</td>\n      <td>0.000021</td>\n    </tr>\n    <tr>\n      <th>25%</th>\n      <td>7.000000</td>\n      <td>47100.000000</td>\n      <td>1.481000e+04</td>\n      <td>7.000000</td>\n      <td>0.000148</td>\n    </tr>\n    <tr>\n      <th>50%</th>\n      <td>272.000000</td>\n      <td>47355.000000</td>\n      <td>5.736170e+05</td>\n      <td>272.000000</td>\n      <td>0.005736</td>\n    </tr>\n    <tr>\n      <th>75%</th>\n      <td>3000.000000</td>\n      <td>47684.000000</td>\n      <td>6.293134e+06</td>\n      <td>3000.000000</td>\n      <td>0.062931</td>\n    </tr>\n    <tr>\n      <th>max</th>\n      <td>886540.000000</td>\n      <td>48314.000000</td>\n      <td>1.854686e+09</td>\n      <td>886540.000000</td>\n      <td>18.546862</td>\n    </tr>\n  </tbody>\n</table>\n</div>"
     },
     "execution_count": 6,
     "metadata": {},
     "output_type": "execute_result"
    }
   ],
   "source": [
    "sell_df = df[df[\"side\"] == \"Sell\"]\n",
    "sell_df.describe()\n"
   ],
   "metadata": {
    "collapsed": false,
    "pycharm": {
     "name": "#%%\n"
    }
   }
  },
  {
   "cell_type": "code",
   "execution_count": 7,
   "outputs": [
    {
     "data": {
      "text/plain": "<Figure size 432x288 with 1 Axes>",
      "image/png": "[encoded data removed]"
     },
     "metadata": {
      "needs_background": "light"
     },
     "output_type": "display_data"
    }
   ],
   "source": [
    "fig = plt.figure()\n",
    "\n",
    "x1 = df.index\n",
    "price = df['price']\n",
    "\n",
    "plt.plot(x1, price, label=\"exec\")\n",
    "\n",
    "plt.show()\n"
   ],
   "metadata": {
    "collapsed": false,
    "pycharm": {
     "name": "#%%\n"
    }
   }
  },
  {
   "cell_type": "code",
   "execution_count": 17,
   "outputs": [
    {
     "data": {
      "text/plain": "                          buyprice   buyedge   sellprice   selledge\ntimestamp                                                          \n2021-08-31 00:00:00.813    46993.5   46993.0     46903.5    46992.5\n2021-08-31 00:00:05.173    46993.5   46993.0     46903.5    46992.0\n2021-08-31 00:00:05.177    46993.5   46993.0     46903.5    46991.5\n2021-08-31 00:00:05.539    46993.5   46991.5     46903.5    46991.0\n2021-08-31 00:00:05.978    46994.0   46991.5     46903.5    46991.0\n...                            ...       ...         ...        ...\n2021-08-31 23:54:10.809    47315.0   47299.5     47171.0    47299.0\n2021-08-31 23:54:16.015    47315.0   47305.0     47171.0    47304.5\n2021-08-31 23:54:16.268    47315.0   47307.0     47171.0    47304.5\n2021-08-31 23:54:17.718    47315.0   47309.5     47171.0    47309.0\n2021-08-31 23:54:21.165    47315.0   47315.0     47171.0    47314.5\n\n[34258 rows x 4 columns]",
      "text/html": "<div>\n<style scoped>\n    .dataframe tbody tr th:only-of-type {\n        vertical-align: middle;\n    }\n\n    .dataframe tbody tr th {\n        vertical-align: top;\n    }\n\n    .dataframe thead th {\n        text-align: right;\n    }\n</style>\n<table border=\"1\" class=\"dataframe\">\n  <thead>\n    <tr style=\"text-align: right;\">\n      <th></th>\n      <th>buyprice</th>\n      <th>buyedge</th>\n      <th>sellprice</th>\n      <th>selledge</th>\n    </tr>\n    <tr>\n      <th>timestamp</th>\n      <th></th>\n      <th></th>\n      <th></th>\n      <th></th>\n    </tr>\n  </thead>\n  <tbody>\n    <tr>\n      <th>2021-08-31 00:00:00.813</th>\n      <td>46993.5</td>\n      <td>46993.0</td>\n      <td>46903.5</td>\n      <td>46992.5</td>\n    </tr>\n    <tr>\n      <th>2021-08-31 00:00:05.173</th>\n      <td>46993.5</td>\n      <td>46993.0</td>\n      <td>46903.5</td>\n      <td>46992.0</td>\n    </tr>\n    <tr>\n      <th>2021-08-31 00:00:05.177</th>\n      <td>46993.5</td>\n      <td>46993.0</td>\n      <td>46903.5</td>\n      <td>46991.5</td>\n    </tr>\n    <tr>\n      <th>2021-08-31 00:00:05.539</th>\n      <td>46993.5</td>\n      <td>46991.5</td>\n      <td>46903.5</td>\n      <td>46991.0</td>\n    </tr>\n    <tr>\n      <th>2021-08-31 00:00:05.978</th>\n      <td>46994.0</td>\n      <td>46991.5</td>\n      <td>46903.5</td>\n      <td>46991.0</td>\n    </tr>\n    <tr>\n      <th>...</th>\n      <td>...</td>\n      <td>...</td>\n      <td>...</td>\n      <td>...</td>\n    </tr>\n    <tr>\n      <th>2021-08-31 23:54:10.809</th>\n      <td>47315.0</td>\n      <td>47299.5</td>\n      <td>47171.0</td>\n      <td>47299.0</td>\n    </tr>\n    <tr>\n      <th>2021-08-31 23:54:16.015</th>\n      <td>47315.0</td>\n      <td>47305.0</td>\n      <td>47171.0</td>\n      <td>47304.5</td>\n    </tr>\n    <tr>\n      <th>2021-08-31 23:54:16.268</th>\n      <td>47315.0</td>\n      <td>47307.0</td>\n      <td>47171.0</td>\n      <td>47304.5</td>\n    </tr>\n    <tr>\n      <th>2021-08-31 23:54:17.718</th>\n      <td>47315.0</td>\n      <td>47309.5</td>\n      <td>47171.0</td>\n      <td>47309.0</td>\n    </tr>\n    <tr>\n      <th>2021-08-31 23:54:21.165</th>\n      <td>47315.0</td>\n      <td>47315.0</td>\n      <td>47171.0</td>\n      <td>47314.5</td>\n    </tr>\n  </tbody>\n</table>\n<p>34258 rows × 4 columns</p>\n</div>"
     },
     "execution_count": 17,
     "metadata": {},
     "output_type": "execute_result"
    }
   ],
   "source": [
    "edgedf = pd.read_csv(\"../DATA/BTCUSD2021-08-31.edge.csv.gz\", index_col=0)\n",
    "\n",
    "edgedf.index = pd.to_datetime(edgedf.index * 1_000)\n",
    "\n",
    "\n",
    "\n",
    "edgedf"
   ],
   "metadata": {
    "collapsed": false,
    "pycharm": {
     "name": "#%%\n"
    }
   }
  },
  {
   "cell_type": "code",
   "execution_count": 29,
   "outputs": [
    {
     "data": {
      "text/plain": "Index([' buyprice', ' buyedge', ' sellprice', ' selledge'], dtype='object')"
     },
     "execution_count": 29,
     "metadata": {},
     "output_type": "execute_result"
    }
   ],
   "source": [
    "edgedf.columns"
   ],
   "metadata": {
    "collapsed": false,
    "pycharm": {
     "name": "#%%\n"
    }
   }
  },
  {
   "cell_type": "code",
   "execution_count": 30,
   "outputs": [
    {
     "data": {
      "text/plain": "Index(['symbol', 'side', 'size', 'price', 'tickDirection', 'trdMatchID',\n       'grossValue', 'homeNotional', 'foreignNotional'],\n      dtype='object')"
     },
     "execution_count": 30,
     "metadata": {},
     "output_type": "execute_result"
    }
   ],
   "source": [
    "df.columns"
   ],
   "metadata": {
    "collapsed": false,
    "pycharm": {
     "name": "#%%\n"
    }
   }
  },
  {
   "cell_type": "code",
   "execution_count": 35,
   "outputs": [
    {
     "data": {
      "text/plain": "<Figure size 432x288 with 1 Axes>",
      "image/png": "[encoded data removed]"
     },
     "metadata": {
      "needs_background": "light"
     },
     "output_type": "display_data"
    }
   ],
   "source": [
    "\n",
    "\n",
    "fig = plt.figure()\n",
    "\n",
    "x1 = df.index\n",
    "price = df['price']\n",
    "\n",
    "x2 = edgedf.index\n",
    "eprice = edgedf[' buyprice']\n",
    "sprice = edgedf[' sellprice']\n",
    "\n",
    "plt.plot(x1, price, label=\"exec\")\n",
    "plt.plot(x2, eprice, label='buy edge')\n",
    "plt.plot(x2, sprice, label='sell edge')\n",
    "\n",
    "plt.show()\n",
    "\n"
   ],
   "metadata": {
    "collapsed": false,
    "pycharm": {
     "name": "#%%\n"
    }
   }
  },
  {
   "cell_type": "markdown",
   "source": [
    "約定価格の決定ロジック\n",
    "\n",
    "* 直近価格を取り出す\n",
    "* taker  同一サイドの1tick先\n",
    "* maker  反対サイドの2tick先"
   ],
   "metadata": {
    "collapsed": false,
    "pycharm": {
     "name": "#%% md\n"
    }
   }
  },
  {
   "cell_type": "code",
   "execution_count": 8,
   "outputs": [
    {
     "data": {
      "text/plain": "                      timestamp  symbol  side   size    price  tickDirection  \\\n0 2021-09-06 23:59:56.832000000  BTCUSD  Sell    400  52716.5      MinusTick   \n1 2021-09-06 23:59:56.731000064  BTCUSD   Buy    103  52717.0  ZeroMinusTick   \n2 2021-09-06 23:59:55.036000000  BTCUSD   Buy  16881  52717.0  ZeroMinusTick   \n3 2021-09-06 23:59:55.024000000  BTCUSD   Buy   7547  52717.0  ZeroMinusTick   \n4 2021-09-06 23:59:55.024000000  BTCUSD   Buy      1  52717.0  ZeroMinusTick   \n5 2021-09-06 23:59:55.024000000  BTCUSD   Buy  10839  52717.0       PlusTick   \n6 2021-09-06 23:59:54.664000000  BTCUSD  Sell   3000  52716.5  ZeroMinusTick   \n7 2021-09-06 23:59:52.834000128  BTCUSD  Sell      1  52716.5  ZeroMinusTick   \n8 2021-09-06 23:59:52.815000064  BTCUSD  Sell      1  52716.5  ZeroMinusTick   \n9 2021-09-06 23:59:52.792999936  BTCUSD  Sell     10  52716.5  ZeroMinusTick   \n\n                             trdMatchID  grossValue  homeNotional  \\\n0  8104a331-0a7b-5d82-b3d6-cfcf26fea382    758775.0           400   \n1  b4b13636-f1aa-5cff-9900-7fb6531eab8c    195382.0           103   \n2  732cd030-7200-576f-bacb-223d06c78ed5  32021928.0         16881   \n3  4d3bf70b-8789-50b3-a750-2b66df8677c1  14316065.0          7547   \n4  0818d94d-e25f-5dd1-9dc6-0c4a0998576e      1896.0             1   \n5  78875386-0c11-54d3-9c9f-25880d7af024  20560729.0         10839   \n6  6ac21909-7ac8-5903-9510-7252f4441153   5690817.0          3000   \n7  ed5c8ab3-f108-5776-a302-a0f59f58d01d      1896.0             1   \n8  be69b186-e852-5c9f-bb06-06ab9026b4a8      1896.0             1   \n9  d61c7e08-ee42-5b38-b90c-a7899a7effca     18969.0            10   \n\n   foreignNotional  \n0         0.007588  \n1         0.001954  \n2         0.320219  \n3         0.143161  \n4         0.000019  \n5         0.205607  \n6         0.056908  \n7         0.000019  \n8         0.000019  \n9         0.000190  ",
      "text/html": "<div>\n<style scoped>\n    .dataframe tbody tr th:only-of-type {\n        vertical-align: middle;\n    }\n\n    .dataframe tbody tr th {\n        vertical-align: top;\n    }\n\n    .dataframe thead th {\n        text-align: right;\n    }\n</style>\n<table border=\"1\" class=\"dataframe\">\n  <thead>\n    <tr style=\"text-align: right;\">\n      <th></th>\n      <th>timestamp</th>\n      <th>symbol</th>\n      <th>side</th>\n      <th>size</th>\n      <th>price</th>\n      <th>tickDirection</th>\n      <th>trdMatchID</th>\n      <th>grossValue</th>\n      <th>homeNotional</th>\n      <th>foreignNotional</th>\n    </tr>\n  </thead>\n  <tbody>\n    <tr>\n      <th>0</th>\n      <td>2021-09-06 23:59:56.832000000</td>\n      <td>BTCUSD</td>\n      <td>Sell</td>\n      <td>400</td>\n      <td>52716.5</td>\n      <td>MinusTick</td>\n      <td>8104a331-0a7b-5d82-b3d6-cfcf26fea382</td>\n      <td>758775.0</td>\n      <td>400</td>\n      <td>0.007588</td>\n    </tr>\n    <tr>\n      <th>1</th>\n      <td>2021-09-06 23:59:56.731000064</td>\n      <td>BTCUSD</td>\n      <td>Buy</td>\n      <td>103</td>\n      <td>52717.0</td>\n      <td>ZeroMinusTick</td>\n      <td>b4b13636-f1aa-5cff-9900-7fb6531eab8c</td>\n      <td>195382.0</td>\n      <td>103</td>\n      <td>0.001954</td>\n    </tr>\n    <tr>\n      <th>2</th>\n      <td>2021-09-06 23:59:55.036000000</td>\n      <td>BTCUSD</td>\n      <td>Buy</td>\n      <td>16881</td>\n      <td>52717.0</td>\n      <td>ZeroMinusTick</td>\n      <td>732cd030-7200-576f-bacb-223d06c78ed5</td>\n      <td>32021928.0</td>\n      <td>16881</td>\n      <td>0.320219</td>\n    </tr>\n    <tr>\n      <th>3</th>\n      <td>2021-09-06 23:59:55.024000000</td>\n      <td>BTCUSD</td>\n      <td>Buy</td>\n      <td>7547</td>\n      <td>52717.0</td>\n      <td>ZeroMinusTick</td>\n      <td>4d3bf70b-8789-50b3-a750-2b66df8677c1</td>\n      <td>14316065.0</td>\n      <td>7547</td>\n      <td>0.143161</td>\n    </tr>\n    <tr>\n      <th>4</th>\n      <td>2021-09-06 23:59:55.024000000</td>\n      <td>BTCUSD</td>\n      <td>Buy</td>\n      <td>1</td>\n      <td>52717.0</td>\n      <td>ZeroMinusTick</td>\n      <td>0818d94d-e25f-5dd1-9dc6-0c4a0998576e</td>\n      <td>1896.0</td>\n      <td>1</td>\n      <td>0.000019</td>\n    </tr>\n    <tr>\n      <th>5</th>\n      <td>2021-09-06 23:59:55.024000000</td>\n      <td>BTCUSD</td>\n      <td>Buy</td>\n      <td>10839</td>\n      <td>52717.0</td>\n      <td>PlusTick</td>\n      <td>78875386-0c11-54d3-9c9f-25880d7af024</td>\n      <td>20560729.0</td>\n      <td>10839</td>\n      <td>0.205607</td>\n    </tr>\n    <tr>\n      <th>6</th>\n      <td>2021-09-06 23:59:54.664000000</td>\n      <td>BTCUSD</td>\n      <td>Sell</td>\n      <td>3000</td>\n      <td>52716.5</td>\n      <td>ZeroMinusTick</td>\n      <td>6ac21909-7ac8-5903-9510-7252f4441153</td>\n      <td>5690817.0</td>\n      <td>3000</td>\n      <td>0.056908</td>\n    </tr>\n    <tr>\n      <th>7</th>\n      <td>2021-09-06 23:59:52.834000128</td>\n      <td>BTCUSD</td>\n      <td>Sell</td>\n      <td>1</td>\n      <td>52716.5</td>\n      <td>ZeroMinusTick</td>\n      <td>ed5c8ab3-f108-5776-a302-a0f59f58d01d</td>\n      <td>1896.0</td>\n      <td>1</td>\n      <td>0.000019</td>\n    </tr>\n    <tr>\n      <th>8</th>\n      <td>2021-09-06 23:59:52.815000064</td>\n      <td>BTCUSD</td>\n      <td>Sell</td>\n      <td>1</td>\n      <td>52716.5</td>\n      <td>ZeroMinusTick</td>\n      <td>be69b186-e852-5c9f-bb06-06ab9026b4a8</td>\n      <td>1896.0</td>\n      <td>1</td>\n      <td>0.000019</td>\n    </tr>\n    <tr>\n      <th>9</th>\n      <td>2021-09-06 23:59:52.792999936</td>\n      <td>BTCUSD</td>\n      <td>Sell</td>\n      <td>10</td>\n      <td>52716.5</td>\n      <td>ZeroMinusTick</td>\n      <td>d61c7e08-ee42-5b38-b90c-a7899a7effca</td>\n      <td>18969.0</td>\n      <td>10</td>\n      <td>0.000190</td>\n    </tr>\n  </tbody>\n</table>\n</div>"
     },
     "execution_count": 8,
     "metadata": {},
     "output_type": "execute_result"
    }
   ],
   "source": [
    "exec_head = df.head(10)\n",
    "\n",
    "exec_head\n",
    "\n",
    "\n",
    "\n",
    "\n",
    "\n"
   ],
   "metadata": {
    "collapsed": false,
    "pycharm": {
     "name": "#%%\n"
    }
   }
  },
  {
   "cell_type": "code",
   "execution_count": 9,
   "outputs": [],
   "source": [
    "first_rec = df[df[\"side\"]==\"Sell\"].head(1)\n",
    "sell_price = float(first_rec[\"price\"])\n",
    "sell_time = first_rec[\"timestamp\"]\n",
    "\n"
   ],
   "metadata": {
    "collapsed": false,
    "pycharm": {
     "name": "#%%\n"
    }
   }
  },
  {
   "cell_type": "code",
   "execution_count": 10,
   "outputs": [],
   "source": [
    "first_rec = df[df[\"side\"]==\"Buy\"].head(1)\n",
    "buy_price = float(first_rec[\"price\"])\n",
    "buy_time = first_rec[\"timestamp\"]"
   ],
   "metadata": {
    "collapsed": false,
    "pycharm": {
     "name": "#%%\n"
    }
   }
  },
  {
   "cell_type": "code",
   "execution_count": 11,
   "outputs": [
    {
     "name": "stdout",
     "output_type": "stream",
     "text": [
      "0   2021-09-06 23:59:56.832\n",
      "Name: timestamp, dtype: datetime64[ns] 52716.5\n",
      "1   2021-09-06 23:59:56.731000064\n",
      "Name: timestamp, dtype: datetime64[ns] 52717.0\n"
     ]
    }
   ],
   "source": [
    "print(sell_time, sell_price)\n",
    "print(buy_time, buy_price)"
   ],
   "metadata": {
    "collapsed": false,
    "pycharm": {
     "name": "#%%\n"
    }
   }
  },
  {
   "cell_type": "markdown",
   "source": [
    "\n",
    "* 売り板が薄い時はスリップする可能性がある。 <-正確な値は板情報がないと出ない。\n",
    "* 逆行の勢いがある場合は約定しない。　←　約定データから計算できる。\n",
    "\n"
   ],
   "metadata": {
    "collapsed": false,
    "pycharm": {
     "name": "#%% md\n"
    }
   }
  },
  {
   "cell_type": "code",
   "execution_count": 12,
   "outputs": [
    {
     "data": {
      "text/plain": "52717.5"
     },
     "execution_count": 12,
     "metadata": {},
     "output_type": "execute_result"
    }
   ],
   "source": [
    "TICK = 0.5\n",
    "taker_buy = buy_price + TICK * 2\n",
    "maker_buy = sell_price + TICK * 2\n",
    "\n",
    "maker_buy"
   ],
   "metadata": {
    "collapsed": false,
    "pycharm": {
     "name": "#%%\n"
    }
   }
  },
  {
   "cell_type": "code",
   "execution_count": 13,
   "outputs": [
    {
     "data": {
      "text/plain": "                           timestamp  symbol  side   size    price  \\\n0      2021-09-06 23:59:56.832000000  BTCUSD  Sell    400  52716.5   \n6      2021-09-06 23:59:54.664000000  BTCUSD  Sell   3000  52716.5   \n7      2021-09-06 23:59:52.834000128  BTCUSD  Sell      1  52716.5   \n8      2021-09-06 23:59:52.815000064  BTCUSD  Sell      1  52716.5   \n9      2021-09-06 23:59:52.792999936  BTCUSD  Sell     10  52716.5   \n...                              ...     ...   ...    ...      ...   \n520967 2021-09-06 00:00:00.582000128  BTCUSD  Sell    100  51834.0   \n520968 2021-09-06 00:00:00.582000128  BTCUSD  Sell     30  51834.0   \n520969 2021-09-06 00:00:00.582000128  BTCUSD  Sell  45000  51834.0   \n520970 2021-09-06 00:00:00.582000128  BTCUSD  Sell    295  51834.0   \n520971 2021-09-06 00:00:00.332000000  BTCUSD  Sell      2  51834.0   \n\n        tickDirection                            trdMatchID  grossValue  \\\n0           MinusTick  8104a331-0a7b-5d82-b3d6-cfcf26fea382    758775.0   \n6       ZeroMinusTick  6ac21909-7ac8-5903-9510-7252f4441153   5690817.0   \n7       ZeroMinusTick  ed5c8ab3-f108-5776-a302-a0f59f58d01d      1896.0   \n8       ZeroMinusTick  be69b186-e852-5c9f-bb06-06ab9026b4a8      1896.0   \n9       ZeroMinusTick  d61c7e08-ee42-5b38-b90c-a7899a7effca     18969.0   \n...               ...                                   ...         ...   \n520967  ZeroMinusTick  d828f400-f5d9-54b1-afbe-7c0f5b80bb88    192923.0   \n520968  ZeroMinusTick  8dc1b293-5236-5152-a863-ed2419adba29     57877.0   \n520969  ZeroMinusTick  534fce91-bcdb-50d8-9c7d-9f7e79d6e69d  86815603.0   \n520970  ZeroMinusTick  2e57b8b7-ab2c-5a2b-9521-19c772daf77f    569124.0   \n520971      MinusTick  53ec437f-44aa-596c-a387-209592c0f45b      3858.0   \n\n        homeNotional  foreignNotional  \n0                400         0.007588  \n6               3000         0.056908  \n7                  1         0.000019  \n8                  1         0.000019  \n9                 10         0.000190  \n...              ...              ...  \n520967           100         0.001929  \n520968            30         0.000579  \n520969         45000         0.868156  \n520970           295         0.005691  \n520971             2         0.000039  \n\n[233495 rows x 10 columns]",
      "text/html": "<div>\n<style scoped>\n    .dataframe tbody tr th:only-of-type {\n        vertical-align: middle;\n    }\n\n    .dataframe tbody tr th {\n        vertical-align: top;\n    }\n\n    .dataframe thead th {\n        text-align: right;\n    }\n</style>\n<table border=\"1\" class=\"dataframe\">\n  <thead>\n    <tr style=\"text-align: right;\">\n      <th></th>\n      <th>timestamp</th>\n      <th>symbol</th>\n      <th>side</th>\n      <th>size</th>\n      <th>price</th>\n      <th>tickDirection</th>\n      <th>trdMatchID</th>\n      <th>grossValue</th>\n      <th>homeNotional</th>\n      <th>foreignNotional</th>\n    </tr>\n  </thead>\n  <tbody>\n    <tr>\n      <th>0</th>\n      <td>2021-09-06 23:59:56.832000000</td>\n      <td>BTCUSD</td>\n      <td>Sell</td>\n      <td>400</td>\n      <td>52716.5</td>\n      <td>MinusTick</td>\n      <td>8104a331-0a7b-5d82-b3d6-cfcf26fea382</td>\n      <td>758775.0</td>\n      <td>400</td>\n      <td>0.007588</td>\n    </tr>\n    <tr>\n      <th>6</th>\n      <td>2021-09-06 23:59:54.664000000</td>\n      <td>BTCUSD</td>\n      <td>Sell</td>\n      <td>3000</td>\n      <td>52716.5</td>\n      <td>ZeroMinusTick</td>\n      <td>6ac21909-7ac8-5903-9510-7252f4441153</td>\n      <td>5690817.0</td>\n      <td>3000</td>\n      <td>0.056908</td>\n    </tr>\n    <tr>\n      <th>7</th>\n      <td>2021-09-06 23:59:52.834000128</td>\n      <td>BTCUSD</td>\n      <td>Sell</td>\n      <td>1</td>\n      <td>52716.5</td>\n      <td>ZeroMinusTick</td>\n      <td>ed5c8ab3-f108-5776-a302-a0f59f58d01d</td>\n      <td>1896.0</td>\n      <td>1</td>\n      <td>0.000019</td>\n    </tr>\n    <tr>\n      <th>8</th>\n      <td>2021-09-06 23:59:52.815000064</td>\n      <td>BTCUSD</td>\n      <td>Sell</td>\n      <td>1</td>\n      <td>52716.5</td>\n      <td>ZeroMinusTick</td>\n      <td>be69b186-e852-5c9f-bb06-06ab9026b4a8</td>\n      <td>1896.0</td>\n      <td>1</td>\n      <td>0.000019</td>\n    </tr>\n    <tr>\n      <th>9</th>\n      <td>2021-09-06 23:59:52.792999936</td>\n      <td>BTCUSD</td>\n      <td>Sell</td>\n      <td>10</td>\n      <td>52716.5</td>\n      <td>ZeroMinusTick</td>\n      <td>d61c7e08-ee42-5b38-b90c-a7899a7effca</td>\n      <td>18969.0</td>\n      <td>10</td>\n      <td>0.000190</td>\n    </tr>\n    <tr>\n      <th>...</th>\n      <td>...</td>\n      <td>...</td>\n      <td>...</td>\n      <td>...</td>\n      <td>...</td>\n      <td>...</td>\n      <td>...</td>\n      <td>...</td>\n      <td>...</td>\n      <td>...</td>\n    </tr>\n    <tr>\n      <th>520967</th>\n      <td>2021-09-06 00:00:00.582000128</td>\n      <td>BTCUSD</td>\n      <td>Sell</td>\n      <td>100</td>\n      <td>51834.0</td>\n      <td>ZeroMinusTick</td>\n      <td>d828f400-f5d9-54b1-afbe-7c0f5b80bb88</td>\n      <td>192923.0</td>\n      <td>100</td>\n      <td>0.001929</td>\n    </tr>\n    <tr>\n      <th>520968</th>\n      <td>2021-09-06 00:00:00.582000128</td>\n      <td>BTCUSD</td>\n      <td>Sell</td>\n      <td>30</td>\n      <td>51834.0</td>\n      <td>ZeroMinusTick</td>\n      <td>8dc1b293-5236-5152-a863-ed2419adba29</td>\n      <td>57877.0</td>\n      <td>30</td>\n      <td>0.000579</td>\n    </tr>\n    <tr>\n      <th>520969</th>\n      <td>2021-09-06 00:00:00.582000128</td>\n      <td>BTCUSD</td>\n      <td>Sell</td>\n      <td>45000</td>\n      <td>51834.0</td>\n      <td>ZeroMinusTick</td>\n      <td>534fce91-bcdb-50d8-9c7d-9f7e79d6e69d</td>\n      <td>86815603.0</td>\n      <td>45000</td>\n      <td>0.868156</td>\n    </tr>\n    <tr>\n      <th>520970</th>\n      <td>2021-09-06 00:00:00.582000128</td>\n      <td>BTCUSD</td>\n      <td>Sell</td>\n      <td>295</td>\n      <td>51834.0</td>\n      <td>ZeroMinusTick</td>\n      <td>2e57b8b7-ab2c-5a2b-9521-19c772daf77f</td>\n      <td>569124.0</td>\n      <td>295</td>\n      <td>0.005691</td>\n    </tr>\n    <tr>\n      <th>520971</th>\n      <td>2021-09-06 00:00:00.332000000</td>\n      <td>BTCUSD</td>\n      <td>Sell</td>\n      <td>2</td>\n      <td>51834.0</td>\n      <td>MinusTick</td>\n      <td>53ec437f-44aa-596c-a387-209592c0f45b</td>\n      <td>3858.0</td>\n      <td>2</td>\n      <td>0.000039</td>\n    </tr>\n  </tbody>\n</table>\n<p>233495 rows × 10 columns</p>\n</div>"
     },
     "execution_count": 13,
     "metadata": {},
     "output_type": "execute_result"
    }
   ],
   "source": [
    "# check exec is done?\n",
    "\n",
    "df[(df[\"price\"]<=maker_buy) & (df[\"side\"] == \"Sell\")]\n"
   ],
   "metadata": {
    "collapsed": false,
    "pycharm": {
     "name": "#%%\n"
    }
   }
  },
  {
   "cell_type": "markdown",
   "source": [
    "## 正規性の検定\n",
    "変動率が正規分布に従うかを検証する。\n",
    "\n",
    "### 変動率の計算"
   ],
   "metadata": {
    "collapsed": false,
    "pycharm": {
     "name": "#%% md\n"
    }
   }
  },
  {
   "cell_type": "code",
   "execution_count": 14,
   "outputs": [
    {
     "data": {
      "text/plain": "timestamp          datetime64[ns]\nsymbol                     object\nside                       object\nsize                        int64\nprice                     float64\ntickDirection              object\ntrdMatchID                 object\ngrossValue                float64\nhomeNotional                int64\nforeignNotional           float64\ndtype: object"
     },
     "execution_count": 14,
     "metadata": {},
     "output_type": "execute_result"
    }
   ],
   "source": [
    "df.dtypes"
   ],
   "metadata": {
    "collapsed": false,
    "pycharm": {
     "name": "#%%\n"
    }
   }
  },
  {
   "cell_type": "code",
   "execution_count": 28,
   "outputs": [
    {
     "ename": "KeyError",
     "evalue": "'timestamp'",
     "output_type": "error",
     "traceback": [
      "\u001B[0;31m---------------------------------------------------------------------------\u001B[0m",
      "\u001B[0;31mKeyError\u001B[0m                                  Traceback (most recent call last)",
      "\u001B[0;32m/opt/homebrew/lib/python3.9/site-packages/pandas/core/indexes/base.py\u001B[0m in \u001B[0;36mget_loc\u001B[0;34m(self, key, method, tolerance)\u001B[0m\n\u001B[1;32m   3079\u001B[0m             \u001B[0;32mtry\u001B[0m\u001B[0;34m:\u001B[0m\u001B[0;34m\u001B[0m\u001B[0;34m\u001B[0m\u001B[0m\n\u001B[0;32m-> 3080\u001B[0;31m                 \u001B[0;32mreturn\u001B[0m \u001B[0mself\u001B[0m\u001B[0;34m.\u001B[0m\u001B[0m_engine\u001B[0m\u001B[0;34m.\u001B[0m\u001B[0mget_loc\u001B[0m\u001B[0;34m(\u001B[0m\u001B[0mcasted_key\u001B[0m\u001B[0;34m)\u001B[0m\u001B[0;34m\u001B[0m\u001B[0;34m\u001B[0m\u001B[0m\n\u001B[0m\u001B[1;32m   3081\u001B[0m             \u001B[0;32mexcept\u001B[0m \u001B[0mKeyError\u001B[0m \u001B[0;32mas\u001B[0m \u001B[0merr\u001B[0m\u001B[0;34m:\u001B[0m\u001B[0;34m\u001B[0m\u001B[0;34m\u001B[0m\u001B[0m\n",
      "\u001B[0;32mpandas/_libs/index.pyx\u001B[0m in \u001B[0;36mpandas._libs.index.IndexEngine.get_loc\u001B[0;34m()\u001B[0m\n",
      "\u001B[0;32mpandas/_libs/index.pyx\u001B[0m in \u001B[0;36mpandas._libs.index.IndexEngine.get_loc\u001B[0;34m()\u001B[0m\n",
      "\u001B[0;32mpandas/_libs/hashtable_class_helper.pxi\u001B[0m in \u001B[0;36mpandas._libs.hashtable.PyObjectHashTable.get_item\u001B[0;34m()\u001B[0m\n",
      "\u001B[0;32mpandas/_libs/hashtable_class_helper.pxi\u001B[0m in \u001B[0;36mpandas._libs.hashtable.PyObjectHashTable.get_item\u001B[0;34m()\u001B[0m\n",
      "\u001B[0;31mKeyError\u001B[0m: 'timestamp'",
      "\nThe above exception was the direct cause of the following exception:\n",
      "\u001B[0;31mKeyError\u001B[0m                                  Traceback (most recent call last)",
      "\u001B[0;32m/var/folders/5r/xmxmz7gj2cjcb7d65tgwvrt40000gn/T/ipykernel_17213/490235332.py\u001B[0m in \u001B[0;36m<module>\u001B[0;34m\u001B[0m\n\u001B[0;32m----> 1\u001B[0;31m \u001B[0mprice\u001B[0m \u001B[0;34m=\u001B[0m \u001B[0mdf\u001B[0m\u001B[0;34m[\u001B[0m\u001B[0;34m'timestamp'\u001B[0m\u001B[0;34m]\u001B[0m\u001B[0;34m\u001B[0m\u001B[0;34m\u001B[0m\u001B[0m\n\u001B[0m\u001B[1;32m      2\u001B[0m \u001B[0mprice\u001B[0m\u001B[0;34m.\u001B[0m\u001B[0mresample\u001B[0m\u001B[0;34m(\u001B[0m\u001B[0;34m'1T'\u001B[0m\u001B[0;34m)\u001B[0m\u001B[0;34m\u001B[0m\u001B[0;34m\u001B[0m\u001B[0m\n\u001B[1;32m      3\u001B[0m \u001B[0;34m\u001B[0m\u001B[0m\n\u001B[1;32m      4\u001B[0m \u001B[0;34m\u001B[0m\u001B[0m\n\u001B[1;32m      5\u001B[0m \u001B[0;34m\u001B[0m\u001B[0m\n",
      "\u001B[0;32m/opt/homebrew/lib/python3.9/site-packages/pandas/core/frame.py\u001B[0m in \u001B[0;36m__getitem__\u001B[0;34m(self, key)\u001B[0m\n\u001B[1;32m   3022\u001B[0m             \u001B[0;32mif\u001B[0m \u001B[0mself\u001B[0m\u001B[0;34m.\u001B[0m\u001B[0mcolumns\u001B[0m\u001B[0;34m.\u001B[0m\u001B[0mnlevels\u001B[0m \u001B[0;34m>\u001B[0m \u001B[0;36m1\u001B[0m\u001B[0;34m:\u001B[0m\u001B[0;34m\u001B[0m\u001B[0;34m\u001B[0m\u001B[0m\n\u001B[1;32m   3023\u001B[0m                 \u001B[0;32mreturn\u001B[0m \u001B[0mself\u001B[0m\u001B[0;34m.\u001B[0m\u001B[0m_getitem_multilevel\u001B[0m\u001B[0;34m(\u001B[0m\u001B[0mkey\u001B[0m\u001B[0;34m)\u001B[0m\u001B[0;34m\u001B[0m\u001B[0;34m\u001B[0m\u001B[0m\n\u001B[0;32m-> 3024\u001B[0;31m             \u001B[0mindexer\u001B[0m \u001B[0;34m=\u001B[0m \u001B[0mself\u001B[0m\u001B[0;34m.\u001B[0m\u001B[0mcolumns\u001B[0m\u001B[0;34m.\u001B[0m\u001B[0mget_loc\u001B[0m\u001B[0;34m(\u001B[0m\u001B[0mkey\u001B[0m\u001B[0;34m)\u001B[0m\u001B[0;34m\u001B[0m\u001B[0;34m\u001B[0m\u001B[0m\n\u001B[0m\u001B[1;32m   3025\u001B[0m             \u001B[0;32mif\u001B[0m \u001B[0mis_integer\u001B[0m\u001B[0;34m(\u001B[0m\u001B[0mindexer\u001B[0m\u001B[0;34m)\u001B[0m\u001B[0;34m:\u001B[0m\u001B[0;34m\u001B[0m\u001B[0;34m\u001B[0m\u001B[0m\n\u001B[1;32m   3026\u001B[0m                 \u001B[0mindexer\u001B[0m \u001B[0;34m=\u001B[0m \u001B[0;34m[\u001B[0m\u001B[0mindexer\u001B[0m\u001B[0;34m]\u001B[0m\u001B[0;34m\u001B[0m\u001B[0;34m\u001B[0m\u001B[0m\n",
      "\u001B[0;32m/opt/homebrew/lib/python3.9/site-packages/pandas/core/indexes/base.py\u001B[0m in \u001B[0;36mget_loc\u001B[0;34m(self, key, method, tolerance)\u001B[0m\n\u001B[1;32m   3080\u001B[0m                 \u001B[0;32mreturn\u001B[0m \u001B[0mself\u001B[0m\u001B[0;34m.\u001B[0m\u001B[0m_engine\u001B[0m\u001B[0;34m.\u001B[0m\u001B[0mget_loc\u001B[0m\u001B[0;34m(\u001B[0m\u001B[0mcasted_key\u001B[0m\u001B[0;34m)\u001B[0m\u001B[0;34m\u001B[0m\u001B[0;34m\u001B[0m\u001B[0m\n\u001B[1;32m   3081\u001B[0m             \u001B[0;32mexcept\u001B[0m \u001B[0mKeyError\u001B[0m \u001B[0;32mas\u001B[0m \u001B[0merr\u001B[0m\u001B[0;34m:\u001B[0m\u001B[0;34m\u001B[0m\u001B[0;34m\u001B[0m\u001B[0m\n\u001B[0;32m-> 3082\u001B[0;31m                 \u001B[0;32mraise\u001B[0m \u001B[0mKeyError\u001B[0m\u001B[0;34m(\u001B[0m\u001B[0mkey\u001B[0m\u001B[0;34m)\u001B[0m \u001B[0;32mfrom\u001B[0m \u001B[0merr\u001B[0m\u001B[0;34m\u001B[0m\u001B[0;34m\u001B[0m\u001B[0m\n\u001B[0m\u001B[1;32m   3083\u001B[0m \u001B[0;34m\u001B[0m\u001B[0m\n\u001B[1;32m   3084\u001B[0m         \u001B[0;32mif\u001B[0m \u001B[0mtolerance\u001B[0m \u001B[0;32mis\u001B[0m \u001B[0;32mnot\u001B[0m \u001B[0;32mNone\u001B[0m\u001B[0;34m:\u001B[0m\u001B[0;34m\u001B[0m\u001B[0;34m\u001B[0m\u001B[0m\n",
      "\u001B[0;31mKeyError\u001B[0m: 'timestamp'"
     ]
    }
   ],
   "source": [
    "\n",
    "price = df['timestamp']\n",
    "price.resample('1T')\n",
    "\n",
    "\n",
    "\n",
    "\n"
   ],
   "metadata": {
    "collapsed": false,
    "pycharm": {
     "name": "#%%\n"
    }
   }
  },
  {
   "cell_type": "code",
   "execution_count": 37,
   "outputs": [
    {
     "data": {
      "text/plain": "timestamp\n2021-09-06 00:00:00    51837.668033\n2021-09-06 00:01:00    51837.953409\n2021-09-06 00:02:00    51805.671933\n2021-09-06 00:03:00    51823.427419\n2021-09-06 00:04:00    51849.858407\n                           ...     \n2021-09-06 23:55:00    52695.458904\n2021-09-06 23:56:00    52709.338889\n2021-09-06 23:57:00    52724.806452\n2021-09-06 23:58:00    52721.353448\n2021-09-06 23:59:00    52715.143885\nFreq: T, Name: price, Length: 1440, dtype: float64"
     },
     "execution_count": 37,
     "metadata": {},
     "output_type": "execute_result"
    }
   ],
   "source": [
    "tick = df['price'].resample('T').mean()\n",
    "tick\n",
    "\n"
   ],
   "metadata": {
    "collapsed": false,
    "pycharm": {
     "name": "#%%\n"
    }
   }
  },
  {
   "cell_type": "code",
   "execution_count": 38,
   "outputs": [
    {
     "data": {
      "text/plain": "<Figure size 432x288 with 1 Axes>",
      "image/png": "[encoded data removed]"
     },
     "metadata": {
      "needs_background": "light"
     },
     "output_type": "display_data"
    }
   ],
   "source": [
    "fig = plt.figure()\n",
    "\n",
    "x1 = df.index\n",
    "price = df['price']\n",
    "\n",
    "plt.plot(x1, price, label=\"exec\")\n",
    "\n",
    "plt.show()\n"
   ],
   "metadata": {
    "collapsed": false,
    "pycharm": {
     "name": "#%%\n"
    }
   }
  },
  {
   "cell_type": "code",
   "execution_count": 53,
   "outputs": [
    {
     "data": {
      "text/plain": "timestamp\n2021-09-06 00:00:00          NaN\n2021-09-06 00:01:00     0.285376\n2021-09-06 00:02:00   -32.281476\n2021-09-06 00:03:00    17.755486\n2021-09-06 00:04:00    26.430988\n                         ...    \n2021-09-06 23:55:00     2.164032\n2021-09-06 23:56:00    13.879985\n2021-09-06 23:57:00    15.467563\n2021-09-06 23:58:00    -3.453003\n2021-09-06 23:59:00    -6.209563\nFreq: T, Name: price, Length: 1440, dtype: float64"
     },
     "execution_count": 53,
     "metadata": {},
     "output_type": "execute_result"
    }
   ],
   "source": [
    "\n",
    "price_diff =df['price'].resample('1T').mean().diff()\n",
    "\n",
    "price_diff"
   ],
   "metadata": {
    "collapsed": false,
    "pycharm": {
     "name": "#%%\n"
    }
   }
  },
  {
   "cell_type": "code",
   "execution_count": 51,
   "outputs": [
    {
     "ename": "KeyError",
     "evalue": "'price'",
     "output_type": "error",
     "traceback": [
      "\u001B[0;31m---------------------------------------------------------------------------\u001B[0m",
      "\u001B[0;31mParserError\u001B[0m                               Traceback (most recent call last)",
      "\u001B[0;32mpandas/_libs/tslibs/conversion.pyx\u001B[0m in \u001B[0;36mpandas._libs.tslibs.conversion._convert_str_to_tsobject\u001B[0;34m()\u001B[0m\n",
      "\u001B[0;32mpandas/_libs/tslibs/parsing.pyx\u001B[0m in \u001B[0;36mpandas._libs.tslibs.parsing.parse_datetime_string\u001B[0;34m()\u001B[0m\n",
      "\u001B[0;32m/opt/homebrew/lib/python3.9/site-packages/dateutil/parser/_parser.py\u001B[0m in \u001B[0;36mparse\u001B[0;34m(timestr, parserinfo, **kwargs)\u001B[0m\n\u001B[1;32m   1373\u001B[0m     \u001B[0;32melse\u001B[0m\u001B[0;34m:\u001B[0m\u001B[0;34m\u001B[0m\u001B[0;34m\u001B[0m\u001B[0m\n\u001B[0;32m-> 1374\u001B[0;31m         \u001B[0;32mreturn\u001B[0m \u001B[0mDEFAULTPARSER\u001B[0m\u001B[0;34m.\u001B[0m\u001B[0mparse\u001B[0m\u001B[0;34m(\u001B[0m\u001B[0mtimestr\u001B[0m\u001B[0;34m,\u001B[0m \u001B[0;34m**\u001B[0m\u001B[0mkwargs\u001B[0m\u001B[0;34m)\u001B[0m\u001B[0;34m\u001B[0m\u001B[0;34m\u001B[0m\u001B[0m\n\u001B[0m\u001B[1;32m   1375\u001B[0m \u001B[0;34m\u001B[0m\u001B[0m\n",
      "\u001B[0;32m/opt/homebrew/lib/python3.9/site-packages/dateutil/parser/_parser.py\u001B[0m in \u001B[0;36mparse\u001B[0;34m(self, timestr, default, ignoretz, tzinfos, **kwargs)\u001B[0m\n\u001B[1;32m    648\u001B[0m         \u001B[0;32mif\u001B[0m \u001B[0mres\u001B[0m \u001B[0;32mis\u001B[0m \u001B[0;32mNone\u001B[0m\u001B[0;34m:\u001B[0m\u001B[0;34m\u001B[0m\u001B[0;34m\u001B[0m\u001B[0m\n\u001B[0;32m--> 649\u001B[0;31m             \u001B[0;32mraise\u001B[0m \u001B[0mParserError\u001B[0m\u001B[0;34m(\u001B[0m\u001B[0;34m\"Unknown string format: %s\"\u001B[0m\u001B[0;34m,\u001B[0m \u001B[0mtimestr\u001B[0m\u001B[0;34m)\u001B[0m\u001B[0;34m\u001B[0m\u001B[0;34m\u001B[0m\u001B[0m\n\u001B[0m\u001B[1;32m    650\u001B[0m \u001B[0;34m\u001B[0m\u001B[0m\n",
      "\u001B[0;31mParserError\u001B[0m: Unknown string format: price",
      "\nDuring handling of the above exception, another exception occurred:\n",
      "\u001B[0;31mValueError\u001B[0m                                Traceback (most recent call last)",
      "\u001B[0;32m/opt/homebrew/lib/python3.9/site-packages/pandas/core/indexes/datetimes.py\u001B[0m in \u001B[0;36mget_loc\u001B[0;34m(self, key, method, tolerance)\u001B[0m\n\u001B[1;32m    663\u001B[0m             \u001B[0;32mtry\u001B[0m\u001B[0;34m:\u001B[0m\u001B[0;34m\u001B[0m\u001B[0;34m\u001B[0m\u001B[0m\n\u001B[0;32m--> 664\u001B[0;31m                 \u001B[0mkey\u001B[0m \u001B[0;34m=\u001B[0m \u001B[0mself\u001B[0m\u001B[0;34m.\u001B[0m\u001B[0m_maybe_cast_for_get_loc\u001B[0m\u001B[0;34m(\u001B[0m\u001B[0mkey\u001B[0m\u001B[0;34m)\u001B[0m\u001B[0;34m\u001B[0m\u001B[0;34m\u001B[0m\u001B[0m\n\u001B[0m\u001B[1;32m    665\u001B[0m             \u001B[0;32mexcept\u001B[0m \u001B[0mValueError\u001B[0m \u001B[0;32mas\u001B[0m \u001B[0merr\u001B[0m\u001B[0;34m:\u001B[0m\u001B[0;34m\u001B[0m\u001B[0;34m\u001B[0m\u001B[0m\n",
      "\u001B[0;32m/opt/homebrew/lib/python3.9/site-packages/pandas/core/indexes/datetimes.py\u001B[0m in \u001B[0;36m_maybe_cast_for_get_loc\u001B[0;34m(self, key)\u001B[0m\n\u001B[1;32m    691\u001B[0m         \u001B[0;31m# needed to localize naive datetimes or dates (GH 35690)\u001B[0m\u001B[0;34m\u001B[0m\u001B[0;34m\u001B[0m\u001B[0;34m\u001B[0m\u001B[0m\n\u001B[0;32m--> 692\u001B[0;31m         \u001B[0mkey\u001B[0m \u001B[0;34m=\u001B[0m \u001B[0mTimestamp\u001B[0m\u001B[0;34m(\u001B[0m\u001B[0mkey\u001B[0m\u001B[0;34m)\u001B[0m\u001B[0;34m\u001B[0m\u001B[0;34m\u001B[0m\u001B[0m\n\u001B[0m\u001B[1;32m    693\u001B[0m         \u001B[0;32mif\u001B[0m \u001B[0mkey\u001B[0m\u001B[0;34m.\u001B[0m\u001B[0mtzinfo\u001B[0m \u001B[0;32mis\u001B[0m \u001B[0;32mNone\u001B[0m\u001B[0;34m:\u001B[0m\u001B[0;34m\u001B[0m\u001B[0;34m\u001B[0m\u001B[0m\n",
      "\u001B[0;32mpandas/_libs/tslibs/timestamps.pyx\u001B[0m in \u001B[0;36mpandas._libs.tslibs.timestamps.Timestamp.__new__\u001B[0;34m()\u001B[0m\n",
      "\u001B[0;32mpandas/_libs/tslibs/conversion.pyx\u001B[0m in \u001B[0;36mpandas._libs.tslibs.conversion.convert_to_tsobject\u001B[0;34m()\u001B[0m\n",
      "\u001B[0;32mpandas/_libs/tslibs/conversion.pyx\u001B[0m in \u001B[0;36mpandas._libs.tslibs.conversion._convert_str_to_tsobject\u001B[0;34m()\u001B[0m\n",
      "\u001B[0;31mValueError\u001B[0m: could not convert string to Timestamp",
      "\nThe above exception was the direct cause of the following exception:\n",
      "\u001B[0;31mKeyError\u001B[0m                                  Traceback (most recent call last)",
      "\u001B[0;32m/var/folders/5r/xmxmz7gj2cjcb7d65tgwvrt40000gn/T/ipykernel_17213/1914179903.py\u001B[0m in \u001B[0;36m<module>\u001B[0;34m\u001B[0m\n\u001B[1;32m      2\u001B[0m \u001B[0;34m\u001B[0m\u001B[0m\n\u001B[1;32m      3\u001B[0m \u001B[0mx1\u001B[0m \u001B[0;34m=\u001B[0m \u001B[0mdf\u001B[0m\u001B[0;34m.\u001B[0m\u001B[0mindex\u001B[0m\u001B[0;34m\u001B[0m\u001B[0;34m\u001B[0m\u001B[0m\n\u001B[0;32m----> 4\u001B[0;31m \u001B[0mprice\u001B[0m \u001B[0;34m=\u001B[0m \u001B[0mprice_diff\u001B[0m\u001B[0;34m[\u001B[0m\u001B[0;34m'price'\u001B[0m\u001B[0;34m]\u001B[0m\u001B[0;34m\u001B[0m\u001B[0;34m\u001B[0m\u001B[0m\n\u001B[0m\u001B[1;32m      5\u001B[0m \u001B[0;34m\u001B[0m\u001B[0m\n\u001B[1;32m      6\u001B[0m \u001B[0mplt\u001B[0m\u001B[0;34m.\u001B[0m\u001B[0mplot\u001B[0m\u001B[0;34m(\u001B[0m\u001B[0mx1\u001B[0m\u001B[0;34m,\u001B[0m \u001B[0mprice\u001B[0m\u001B[0;34m,\u001B[0m \u001B[0mlabel\u001B[0m\u001B[0;34m=\u001B[0m\u001B[0;34m\"exec\"\u001B[0m\u001B[0;34m)\u001B[0m\u001B[0;34m\u001B[0m\u001B[0;34m\u001B[0m\u001B[0m\n",
      "\u001B[0;32m/opt/homebrew/lib/python3.9/site-packages/pandas/core/series.py\u001B[0m in \u001B[0;36m__getitem__\u001B[0;34m(self, key)\u001B[0m\n\u001B[1;32m    851\u001B[0m \u001B[0;34m\u001B[0m\u001B[0m\n\u001B[1;32m    852\u001B[0m         \u001B[0;32melif\u001B[0m \u001B[0mkey_is_scalar\u001B[0m\u001B[0;34m:\u001B[0m\u001B[0;34m\u001B[0m\u001B[0;34m\u001B[0m\u001B[0m\n\u001B[0;32m--> 853\u001B[0;31m             \u001B[0;32mreturn\u001B[0m \u001B[0mself\u001B[0m\u001B[0;34m.\u001B[0m\u001B[0m_get_value\u001B[0m\u001B[0;34m(\u001B[0m\u001B[0mkey\u001B[0m\u001B[0;34m)\u001B[0m\u001B[0;34m\u001B[0m\u001B[0;34m\u001B[0m\u001B[0m\n\u001B[0m\u001B[1;32m    854\u001B[0m \u001B[0;34m\u001B[0m\u001B[0m\n\u001B[1;32m    855\u001B[0m         \u001B[0;32mif\u001B[0m \u001B[0mis_hashable\u001B[0m\u001B[0;34m(\u001B[0m\u001B[0mkey\u001B[0m\u001B[0;34m)\u001B[0m\u001B[0;34m:\u001B[0m\u001B[0;34m\u001B[0m\u001B[0;34m\u001B[0m\u001B[0m\n",
      "\u001B[0;32m/opt/homebrew/lib/python3.9/site-packages/pandas/core/series.py\u001B[0m in \u001B[0;36m_get_value\u001B[0;34m(self, label, takeable)\u001B[0m\n\u001B[1;32m    959\u001B[0m \u001B[0;34m\u001B[0m\u001B[0m\n\u001B[1;32m    960\u001B[0m         \u001B[0;31m# Similar to Index.get_value, but we do not fall back to positional\u001B[0m\u001B[0;34m\u001B[0m\u001B[0;34m\u001B[0m\u001B[0;34m\u001B[0m\u001B[0m\n\u001B[0;32m--> 961\u001B[0;31m         \u001B[0mloc\u001B[0m \u001B[0;34m=\u001B[0m \u001B[0mself\u001B[0m\u001B[0;34m.\u001B[0m\u001B[0mindex\u001B[0m\u001B[0;34m.\u001B[0m\u001B[0mget_loc\u001B[0m\u001B[0;34m(\u001B[0m\u001B[0mlabel\u001B[0m\u001B[0;34m)\u001B[0m\u001B[0;34m\u001B[0m\u001B[0;34m\u001B[0m\u001B[0m\n\u001B[0m\u001B[1;32m    962\u001B[0m         \u001B[0;32mreturn\u001B[0m \u001B[0mself\u001B[0m\u001B[0;34m.\u001B[0m\u001B[0mindex\u001B[0m\u001B[0;34m.\u001B[0m\u001B[0m_get_values_for_loc\u001B[0m\u001B[0;34m(\u001B[0m\u001B[0mself\u001B[0m\u001B[0;34m,\u001B[0m \u001B[0mloc\u001B[0m\u001B[0;34m,\u001B[0m \u001B[0mlabel\u001B[0m\u001B[0;34m)\u001B[0m\u001B[0;34m\u001B[0m\u001B[0;34m\u001B[0m\u001B[0m\n\u001B[1;32m    963\u001B[0m \u001B[0;34m\u001B[0m\u001B[0m\n",
      "\u001B[0;32m/opt/homebrew/lib/python3.9/site-packages/pandas/core/indexes/datetimes.py\u001B[0m in \u001B[0;36mget_loc\u001B[0;34m(self, key, method, tolerance)\u001B[0m\n\u001B[1;32m    664\u001B[0m                 \u001B[0mkey\u001B[0m \u001B[0;34m=\u001B[0m \u001B[0mself\u001B[0m\u001B[0;34m.\u001B[0m\u001B[0m_maybe_cast_for_get_loc\u001B[0m\u001B[0;34m(\u001B[0m\u001B[0mkey\u001B[0m\u001B[0;34m)\u001B[0m\u001B[0;34m\u001B[0m\u001B[0;34m\u001B[0m\u001B[0m\n\u001B[1;32m    665\u001B[0m             \u001B[0;32mexcept\u001B[0m \u001B[0mValueError\u001B[0m \u001B[0;32mas\u001B[0m \u001B[0merr\u001B[0m\u001B[0;34m:\u001B[0m\u001B[0;34m\u001B[0m\u001B[0;34m\u001B[0m\u001B[0m\n\u001B[0;32m--> 666\u001B[0;31m                 \u001B[0;32mraise\u001B[0m \u001B[0mKeyError\u001B[0m\u001B[0;34m(\u001B[0m\u001B[0mkey\u001B[0m\u001B[0;34m)\u001B[0m \u001B[0;32mfrom\u001B[0m \u001B[0merr\u001B[0m\u001B[0;34m\u001B[0m\u001B[0;34m\u001B[0m\u001B[0m\n\u001B[0m\u001B[1;32m    667\u001B[0m \u001B[0;34m\u001B[0m\u001B[0m\n\u001B[1;32m    668\u001B[0m         \u001B[0;32melif\u001B[0m \u001B[0misinstance\u001B[0m\u001B[0;34m(\u001B[0m\u001B[0mkey\u001B[0m\u001B[0;34m,\u001B[0m \u001B[0mtimedelta\u001B[0m\u001B[0;34m)\u001B[0m\u001B[0;34m:\u001B[0m\u001B[0;34m\u001B[0m\u001B[0;34m\u001B[0m\u001B[0m\n",
      "\u001B[0;31mKeyError\u001B[0m: 'price'"
     ]
    },
    {
     "data": {
      "text/plain": "<Figure size 432x288 with 0 Axes>"
     },
     "metadata": {},
     "output_type": "display_data"
    }
   ],
   "source": [
    "fig = plt.figure()\n",
    "\n",
    "x1 = df.index\n",
    "price = price_diff['price']\n",
    "\n",
    "plt.plot(x1, price, label=\"exec\")\n",
    "\n",
    "plt.show()\n"
   ],
   "metadata": {
    "collapsed": false,
    "pycharm": {
     "name": "#%%\n"
    }
   }
  },
  {
   "cell_type": "code",
   "execution_count": 43,
   "outputs": [
    {
     "data": {
      "text/plain": "count    1439.000000\nmean        0.609782\nstd        22.174448\nmin      -184.380874\n25%        -5.299029\n50%         0.030688\n75%         7.698042\nmax       194.330956\nName: price, dtype: float64"
     },
     "execution_count": 43,
     "metadata": {},
     "output_type": "execute_result"
    }
   ],
   "source": [
    "price_diff.describe()"
   ],
   "metadata": {
    "collapsed": false,
    "pycharm": {
     "name": "#%%\n"
    }
   }
  },
  {
   "cell_type": "markdown",
   "source": [
    "価格の分布"
   ],
   "metadata": {
    "collapsed": false
   }
  },
  {
   "cell_type": "code",
   "execution_count": null,
   "outputs": [],
   "source": [
    "data = np.array(df['price'])\n",
    "\n",
    "fig = plt.figure()\n",
    "plt.hist(data, bins=30)\n",
    "plt.show()\n",
    "#%"
   ],
   "metadata": {
    "collapsed": false,
    "pycharm": {
     "name": "#%%\n"
    }
   }
  },
  {
   "cell_type": "markdown",
   "source": [
    "価格の*差分*分布"
   ],
   "metadata": {
    "collapsed": false
   }
  },
  {
   "cell_type": "code",
   "execution_count": 49,
   "outputs": [
    {
     "ename": "TypeError",
     "evalue": "unsupported operand type(s) for -: 'str' and 'str'",
     "output_type": "error",
     "traceback": [
      "\u001B[0;31m---------------------------------------------------------------------------\u001B[0m",
      "\u001B[0;31mTypeError\u001B[0m                                 Traceback (most recent call last)",
      "\u001B[0;32m/var/folders/5r/xmxmz7gj2cjcb7d65tgwvrt40000gn/T/ipykernel_17213/178823181.py\u001B[0m in \u001B[0;36m<module>\u001B[0;34m\u001B[0m\n\u001B[0;32m----> 1\u001B[0;31m \u001B[0mdiff_df\u001B[0m \u001B[0;34m=\u001B[0m \u001B[0mdf\u001B[0m\u001B[0;34m.\u001B[0m\u001B[0mdiff\u001B[0m\u001B[0;34m(\u001B[0m\u001B[0;34m)\u001B[0m\u001B[0;34m\u001B[0m\u001B[0;34m\u001B[0m\u001B[0m\n\u001B[0m\u001B[1;32m      2\u001B[0m \u001B[0;34m\u001B[0m\u001B[0m\n\u001B[1;32m      3\u001B[0m \u001B[0mdata\u001B[0m \u001B[0;34m=\u001B[0m \u001B[0mnp\u001B[0m\u001B[0;34m.\u001B[0m\u001B[0marray\u001B[0m\u001B[0;34m(\u001B[0m\u001B[0mdiff_df\u001B[0m\u001B[0;34m[\u001B[0m\u001B[0;34m'price'\u001B[0m\u001B[0;34m]\u001B[0m\u001B[0;34m)\u001B[0m\u001B[0;34m\u001B[0m\u001B[0;34m\u001B[0m\u001B[0m\n\u001B[1;32m      4\u001B[0m \u001B[0;34m\u001B[0m\u001B[0m\n\u001B[1;32m      5\u001B[0m \u001B[0mfig\u001B[0m \u001B[0;34m=\u001B[0m \u001B[0mplt\u001B[0m\u001B[0;34m.\u001B[0m\u001B[0mfigure\u001B[0m\u001B[0;34m(\u001B[0m\u001B[0;34m)\u001B[0m\u001B[0;34m\u001B[0m\u001B[0;34m\u001B[0m\u001B[0m\n",
      "\u001B[0;32m/opt/homebrew/lib/python3.9/site-packages/pandas/core/frame.py\u001B[0m in \u001B[0;36mdiff\u001B[0;34m(self, periods, axis)\u001B[0m\n\u001B[1;32m   7462\u001B[0m             \u001B[0;32mreturn\u001B[0m \u001B[0mself\u001B[0m \u001B[0;34m-\u001B[0m \u001B[0mself\u001B[0m\u001B[0;34m.\u001B[0m\u001B[0mshift\u001B[0m\u001B[0;34m(\u001B[0m\u001B[0mperiods\u001B[0m\u001B[0;34m,\u001B[0m \u001B[0maxis\u001B[0m\u001B[0;34m=\u001B[0m\u001B[0maxis\u001B[0m\u001B[0;34m)\u001B[0m\u001B[0;34m\u001B[0m\u001B[0;34m\u001B[0m\u001B[0m\n\u001B[1;32m   7463\u001B[0m \u001B[0;34m\u001B[0m\u001B[0m\n\u001B[0;32m-> 7464\u001B[0;31m         \u001B[0mnew_data\u001B[0m \u001B[0;34m=\u001B[0m \u001B[0mself\u001B[0m\u001B[0;34m.\u001B[0m\u001B[0m_mgr\u001B[0m\u001B[0;34m.\u001B[0m\u001B[0mdiff\u001B[0m\u001B[0;34m(\u001B[0m\u001B[0mn\u001B[0m\u001B[0;34m=\u001B[0m\u001B[0mperiods\u001B[0m\u001B[0;34m,\u001B[0m \u001B[0maxis\u001B[0m\u001B[0;34m=\u001B[0m\u001B[0mbm_axis\u001B[0m\u001B[0;34m)\u001B[0m\u001B[0;34m\u001B[0m\u001B[0;34m\u001B[0m\u001B[0m\n\u001B[0m\u001B[1;32m   7465\u001B[0m         \u001B[0;32mreturn\u001B[0m \u001B[0mself\u001B[0m\u001B[0;34m.\u001B[0m\u001B[0m_constructor\u001B[0m\u001B[0;34m(\u001B[0m\u001B[0mnew_data\u001B[0m\u001B[0;34m)\u001B[0m\u001B[0;34m.\u001B[0m\u001B[0m__finalize__\u001B[0m\u001B[0;34m(\u001B[0m\u001B[0mself\u001B[0m\u001B[0;34m,\u001B[0m \u001B[0;34m\"diff\"\u001B[0m\u001B[0;34m)\u001B[0m\u001B[0;34m\u001B[0m\u001B[0;34m\u001B[0m\u001B[0m\n\u001B[1;32m   7466\u001B[0m \u001B[0;34m\u001B[0m\u001B[0m\n",
      "\u001B[0;32m/opt/homebrew/lib/python3.9/site-packages/pandas/core/internals/managers.py\u001B[0m in \u001B[0;36mdiff\u001B[0;34m(self, n, axis)\u001B[0m\n\u001B[1;32m    588\u001B[0m \u001B[0;34m\u001B[0m\u001B[0m\n\u001B[1;32m    589\u001B[0m     \u001B[0;32mdef\u001B[0m \u001B[0mdiff\u001B[0m\u001B[0;34m(\u001B[0m\u001B[0mself\u001B[0m\u001B[0;34m,\u001B[0m \u001B[0mn\u001B[0m\u001B[0;34m:\u001B[0m \u001B[0mint\u001B[0m\u001B[0;34m,\u001B[0m \u001B[0maxis\u001B[0m\u001B[0;34m:\u001B[0m \u001B[0mint\u001B[0m\u001B[0;34m)\u001B[0m \u001B[0;34m->\u001B[0m \u001B[0;34m\"BlockManager\"\u001B[0m\u001B[0;34m:\u001B[0m\u001B[0;34m\u001B[0m\u001B[0;34m\u001B[0m\u001B[0m\n\u001B[0;32m--> 590\u001B[0;31m         \u001B[0;32mreturn\u001B[0m \u001B[0mself\u001B[0m\u001B[0;34m.\u001B[0m\u001B[0mapply\u001B[0m\u001B[0;34m(\u001B[0m\u001B[0;34m\"diff\"\u001B[0m\u001B[0;34m,\u001B[0m \u001B[0mn\u001B[0m\u001B[0;34m=\u001B[0m\u001B[0mn\u001B[0m\u001B[0;34m,\u001B[0m \u001B[0maxis\u001B[0m\u001B[0;34m=\u001B[0m\u001B[0maxis\u001B[0m\u001B[0;34m)\u001B[0m\u001B[0;34m\u001B[0m\u001B[0;34m\u001B[0m\u001B[0m\n\u001B[0m\u001B[1;32m    591\u001B[0m \u001B[0;34m\u001B[0m\u001B[0m\n\u001B[1;32m    592\u001B[0m     \u001B[0;32mdef\u001B[0m \u001B[0minterpolate\u001B[0m\u001B[0;34m(\u001B[0m\u001B[0mself\u001B[0m\u001B[0;34m,\u001B[0m \u001B[0;34m**\u001B[0m\u001B[0mkwargs\u001B[0m\u001B[0;34m)\u001B[0m \u001B[0;34m->\u001B[0m \u001B[0;34m\"BlockManager\"\u001B[0m\u001B[0;34m:\u001B[0m\u001B[0;34m\u001B[0m\u001B[0;34m\u001B[0m\u001B[0m\n",
      "\u001B[0;32m/opt/homebrew/lib/python3.9/site-packages/pandas/core/internals/managers.py\u001B[0m in \u001B[0;36mapply\u001B[0;34m(self, f, align_keys, ignore_failures, **kwargs)\u001B[0m\n\u001B[1;32m    425\u001B[0m                     \u001B[0mapplied\u001B[0m \u001B[0;34m=\u001B[0m \u001B[0mb\u001B[0m\u001B[0;34m.\u001B[0m\u001B[0mapply\u001B[0m\u001B[0;34m(\u001B[0m\u001B[0mf\u001B[0m\u001B[0;34m,\u001B[0m \u001B[0;34m**\u001B[0m\u001B[0mkwargs\u001B[0m\u001B[0;34m)\u001B[0m\u001B[0;34m\u001B[0m\u001B[0;34m\u001B[0m\u001B[0m\n\u001B[1;32m    426\u001B[0m                 \u001B[0;32melse\u001B[0m\u001B[0;34m:\u001B[0m\u001B[0;34m\u001B[0m\u001B[0;34m\u001B[0m\u001B[0m\n\u001B[0;32m--> 427\u001B[0;31m                     \u001B[0mapplied\u001B[0m \u001B[0;34m=\u001B[0m \u001B[0mgetattr\u001B[0m\u001B[0;34m(\u001B[0m\u001B[0mb\u001B[0m\u001B[0;34m,\u001B[0m \u001B[0mf\u001B[0m\u001B[0;34m)\u001B[0m\u001B[0;34m(\u001B[0m\u001B[0;34m**\u001B[0m\u001B[0mkwargs\u001B[0m\u001B[0;34m)\u001B[0m\u001B[0;34m\u001B[0m\u001B[0;34m\u001B[0m\u001B[0m\n\u001B[0m\u001B[1;32m    428\u001B[0m             \u001B[0;32mexcept\u001B[0m \u001B[0;34m(\u001B[0m\u001B[0mTypeError\u001B[0m\u001B[0;34m,\u001B[0m \u001B[0mNotImplementedError\u001B[0m\u001B[0;34m)\u001B[0m\u001B[0;34m:\u001B[0m\u001B[0;34m\u001B[0m\u001B[0;34m\u001B[0m\u001B[0m\n\u001B[1;32m    429\u001B[0m                 \u001B[0;32mif\u001B[0m \u001B[0;32mnot\u001B[0m \u001B[0mignore_failures\u001B[0m\u001B[0;34m:\u001B[0m\u001B[0;34m\u001B[0m\u001B[0;34m\u001B[0m\u001B[0m\n",
      "\u001B[0;32m/opt/homebrew/lib/python3.9/site-packages/pandas/core/internals/blocks.py\u001B[0m in \u001B[0;36mdiff\u001B[0;34m(self, n, axis)\u001B[0m\n\u001B[1;32m   1410\u001B[0m     \u001B[0;32mdef\u001B[0m \u001B[0mdiff\u001B[0m\u001B[0;34m(\u001B[0m\u001B[0mself\u001B[0m\u001B[0;34m,\u001B[0m \u001B[0mn\u001B[0m\u001B[0;34m:\u001B[0m \u001B[0mint\u001B[0m\u001B[0;34m,\u001B[0m \u001B[0maxis\u001B[0m\u001B[0;34m:\u001B[0m \u001B[0mint\u001B[0m \u001B[0;34m=\u001B[0m \u001B[0;36m1\u001B[0m\u001B[0;34m)\u001B[0m \u001B[0;34m->\u001B[0m \u001B[0mList\u001B[0m\u001B[0;34m[\u001B[0m\u001B[0;34m\"Block\"\u001B[0m\u001B[0;34m]\u001B[0m\u001B[0;34m:\u001B[0m\u001B[0;34m\u001B[0m\u001B[0;34m\u001B[0m\u001B[0m\n\u001B[1;32m   1411\u001B[0m         \u001B[0;34m\"\"\" return block for the diff of the values \"\"\"\u001B[0m\u001B[0;34m\u001B[0m\u001B[0;34m\u001B[0m\u001B[0m\n\u001B[0;32m-> 1412\u001B[0;31m         \u001B[0mnew_values\u001B[0m \u001B[0;34m=\u001B[0m \u001B[0malgos\u001B[0m\u001B[0;34m.\u001B[0m\u001B[0mdiff\u001B[0m\u001B[0;34m(\u001B[0m\u001B[0mself\u001B[0m\u001B[0;34m.\u001B[0m\u001B[0mvalues\u001B[0m\u001B[0;34m,\u001B[0m \u001B[0mn\u001B[0m\u001B[0;34m,\u001B[0m \u001B[0maxis\u001B[0m\u001B[0;34m=\u001B[0m\u001B[0maxis\u001B[0m\u001B[0;34m,\u001B[0m \u001B[0mstacklevel\u001B[0m\u001B[0;34m=\u001B[0m\u001B[0;36m7\u001B[0m\u001B[0;34m)\u001B[0m\u001B[0;34m\u001B[0m\u001B[0;34m\u001B[0m\u001B[0m\n\u001B[0m\u001B[1;32m   1413\u001B[0m         \u001B[0;32mreturn\u001B[0m \u001B[0;34m[\u001B[0m\u001B[0mself\u001B[0m\u001B[0;34m.\u001B[0m\u001B[0mmake_block\u001B[0m\u001B[0;34m(\u001B[0m\u001B[0mvalues\u001B[0m\u001B[0;34m=\u001B[0m\u001B[0mnew_values\u001B[0m\u001B[0;34m)\u001B[0m\u001B[0;34m]\u001B[0m\u001B[0;34m\u001B[0m\u001B[0;34m\u001B[0m\u001B[0m\n\u001B[1;32m   1414\u001B[0m \u001B[0;34m\u001B[0m\u001B[0m\n",
      "\u001B[0;32m/opt/homebrew/lib/python3.9/site-packages/pandas/core/algorithms.py\u001B[0m in \u001B[0;36mdiff\u001B[0;34m(arr, n, axis, stacklevel)\u001B[0m\n\u001B[1;32m   2037\u001B[0m             \u001B[0mout_arr\u001B[0m\u001B[0;34m[\u001B[0m\u001B[0mres_indexer\u001B[0m\u001B[0;34m]\u001B[0m \u001B[0;34m=\u001B[0m \u001B[0marr\u001B[0m\u001B[0;34m[\u001B[0m\u001B[0mres_indexer\u001B[0m\u001B[0;34m]\u001B[0m \u001B[0;34m^\u001B[0m \u001B[0marr\u001B[0m\u001B[0;34m[\u001B[0m\u001B[0mlag_indexer\u001B[0m\u001B[0;34m]\u001B[0m\u001B[0;34m\u001B[0m\u001B[0;34m\u001B[0m\u001B[0m\n\u001B[1;32m   2038\u001B[0m         \u001B[0;32melse\u001B[0m\u001B[0;34m:\u001B[0m\u001B[0;34m\u001B[0m\u001B[0;34m\u001B[0m\u001B[0m\n\u001B[0;32m-> 2039\u001B[0;31m             \u001B[0mout_arr\u001B[0m\u001B[0;34m[\u001B[0m\u001B[0mres_indexer\u001B[0m\u001B[0;34m]\u001B[0m \u001B[0;34m=\u001B[0m \u001B[0marr\u001B[0m\u001B[0;34m[\u001B[0m\u001B[0mres_indexer\u001B[0m\u001B[0;34m]\u001B[0m \u001B[0;34m-\u001B[0m \u001B[0marr\u001B[0m\u001B[0;34m[\u001B[0m\u001B[0mlag_indexer\u001B[0m\u001B[0;34m]\u001B[0m\u001B[0;34m\u001B[0m\u001B[0;34m\u001B[0m\u001B[0m\n\u001B[0m\u001B[1;32m   2040\u001B[0m \u001B[0;34m\u001B[0m\u001B[0m\n\u001B[1;32m   2041\u001B[0m     \u001B[0;32mif\u001B[0m \u001B[0mis_timedelta\u001B[0m\u001B[0;34m:\u001B[0m\u001B[0;34m\u001B[0m\u001B[0;34m\u001B[0m\u001B[0m\n",
      "\u001B[0;31mTypeError\u001B[0m: unsupported operand type(s) for -: 'str' and 'str'"
     ]
    }
   ],
   "source": [
    "diff_df = df.diff()\n",
    "\n",
    "data = np.array(diff_df['price'])\n",
    "\n",
    "fig = plt.figure()\n",
    "plt.hist(data, bins=30)\n",
    "plt.show()\n",
    "#%\n"
   ],
   "metadata": {
    "collapsed": false,
    "pycharm": {
     "name": "#%%\n"
    }
   }
  },
  {
   "cell_type": "code",
   "execution_count": null,
   "outputs": [],
   "source": [],
   "metadata": {
    "collapsed": false,
    "pycharm": {
     "name": "#%%\n"
    }
   }
  }
 ],
 "metadata": {
  "kernelspec": {
   "name": "pycharm-9c763b57",
   "language": "python",
   "display_name": "PyCharm (bbanalyze)"
  },
  "language_info": {
   "codemirror_mode": {
    "name": "ipython",
    "version": 2
   },
   "file_extension": ".py",
   "mimetype": "text/x-python",
   "name": "python",
   "nbconvert_exporter": "python",
   "pygments_lexer": "ipython2",
   "version": "2.7.6"
  }
 },
 "nbformat": 4,
 "nbformat_minor": 0
}