{
 "cells": [
  {
   "cell_type": "code",
   "execution_count": 1,
   "outputs": [
    {
     "name": "stdout",
     "output_type": "stream",
     "text": [
      "Requirement already satisfied: numpy in /opt/homebrew/lib/python3.9/site-packages (1.21.2)\r\n"
     ]
    }
   ],
   "source": [
    "! pip install numpy\n"
   ],
   "metadata": {
    "collapsed": false,
    "pycharm": {
     "name": "#%%\n"
    }
   }
  },
  {
   "cell_type": "code",
   "execution_count": 2,
   "metadata": {
    "collapsed": true
   },
   "outputs": [],
   "source": [
    "import numpy as np\n",
    "import pandas as pd\n",
    "from matplotlib import pyplot as plt\n",
    "import seaborn as sns\n",
    "from scipy.stats import norm, t"
   ]
  },
  {
   "cell_type": "code",
   "execution_count": 38,
   "outputs": [],
   "source": [
    "import os\n",
    "from urllib import request\n",
    "import scipy.stats as stats\n",
    "\n",
    "\n",
    "def get_bb_log(yyyy, mm, dd, symbol=\"BTCUSD\"):\n",
    "    file_name = f'{symbol}{yyyy:04d}-{mm:02d}-{dd:02d}.csv.gz'\n",
    "    tmp_file = '/tmp/'+ file_name\n",
    "\n",
    "    if not os.path.exists(tmp_file):\n",
    "        download_url = f'https://public.bybit.com/trading/{symbol}/{file_name}'\n",
    "        request.urlretrieve(download_url, tmp_file)\n",
    "        print(\"download file=\", file_name)\n",
    "\n",
    "    return tmp_file\n",
    "\n",
    "def get_bb_df(yyyy, mm, dd):\n",
    "    file = get_bb_log(yyyy, mm, dd)\n",
    "\n",
    "    bb_df = pd.read_csv(file, index_col=0)\n",
    "    bb_df.index = pd.to_datetime(bb_df.index*1_000_000_000, utc=True)\n",
    "\n",
    "    return bb_df\n",
    "\n",
    "\n",
    "def show_dist(data):\n",
    "    sns.distplot(data, fit=norm, bins=50)\n",
    "    plt.show()\n",
    "\n",
    "def probplot(data):\n",
    "    stats.probplot(data, plot=plt)\n",
    "    plt.show()\n",
    "\n",
    "def show_stats(data):\n",
    "    w = stats.shapiro(data)\n",
    "    print(\"sharp ratio=\", w)\n",
    "\n",
    "    k = stats.kstest(data, 'norm')\n",
    "    print(\"KS ratio=\", k)\n",
    "\n",
    "\n",
    "def compare_normal_dist(data):\n",
    "    show_dist(data)\n",
    "    probplot(data)\n",
    "    show_stats(data)\n"
   ],
   "metadata": {
    "collapsed": false,
    "pycharm": {
     "name": "#%%\n"
    }
   }
  },
  {
   "cell_type": "code",
   "execution_count": 39,
   "outputs": [
    {
     "data": {
      "text/plain": "               size         price    grossValue  homeNotional  foreignNotional\ncount  1.386235e+06  1.386235e+06  1.386235e+06  1.386235e+06     1.386235e+06\nmean   6.264342e+03  4.763815e+04  1.315072e+07  6.264342e+03     1.315072e-01\nstd    2.253776e+04  4.051151e+02  4.732057e+07  2.253776e+04     4.732057e-01\nmin    1.000000e+00  4.669900e+04  2.061000e+03  1.000000e+00     2.061000e-05\n25%    5.000000e+00  4.733800e+04  1.047100e+04  5.000000e+00     1.047100e-04\n50%    2.060000e+02  4.762000e+04  4.326690e+05  2.060000e+02     4.326690e-03\n75%    2.500000e+03  4.797550e+04  5.288411e+06  2.500000e+03     5.288411e-02\nmax    9.999980e+05  4.850000e+04  2.116196e+09  9.999980e+05     2.116196e+01",
      "text/html": "<div>\n<style scoped>\n    .dataframe tbody tr th:only-of-type {\n        vertical-align: middle;\n    }\n\n    .dataframe tbody tr th {\n        vertical-align: top;\n    }\n\n    .dataframe thead th {\n        text-align: right;\n    }\n</style>\n<table border=\"1\" class=\"dataframe\">\n  <thead>\n    <tr style=\"text-align: right;\">\n      <th></th>\n      <th>size</th>\n      <th>price</th>\n      <th>grossValue</th>\n      <th>homeNotional</th>\n      <th>foreignNotional</th>\n    </tr>\n  </thead>\n  <tbody>\n    <tr>\n      <th>count</th>\n      <td>1.386235e+06</td>\n      <td>1.386235e+06</td>\n      <td>1.386235e+06</td>\n      <td>1.386235e+06</td>\n      <td>1.386235e+06</td>\n    </tr>\n    <tr>\n      <th>mean</th>\n      <td>6.264342e+03</td>\n      <td>4.763815e+04</td>\n      <td>1.315072e+07</td>\n      <td>6.264342e+03</td>\n      <td>1.315072e-01</td>\n    </tr>\n    <tr>\n      <th>std</th>\n      <td>2.253776e+04</td>\n      <td>4.051151e+02</td>\n      <td>4.732057e+07</td>\n      <td>2.253776e+04</td>\n      <td>4.732057e-01</td>\n    </tr>\n    <tr>\n      <th>min</th>\n      <td>1.000000e+00</td>\n      <td>4.669900e+04</td>\n      <td>2.061000e+03</td>\n      <td>1.000000e+00</td>\n      <td>2.061000e-05</td>\n    </tr>\n    <tr>\n      <th>25%</th>\n      <td>5.000000e+00</td>\n      <td>4.733800e+04</td>\n      <td>1.047100e+04</td>\n      <td>5.000000e+00</td>\n      <td>1.047100e-04</td>\n    </tr>\n    <tr>\n      <th>50%</th>\n      <td>2.060000e+02</td>\n      <td>4.762000e+04</td>\n      <td>4.326690e+05</td>\n      <td>2.060000e+02</td>\n      <td>4.326690e-03</td>\n    </tr>\n    <tr>\n      <th>75%</th>\n      <td>2.500000e+03</td>\n      <td>4.797550e+04</td>\n      <td>5.288411e+06</td>\n      <td>2.500000e+03</td>\n      <td>5.288411e-02</td>\n    </tr>\n    <tr>\n      <th>max</th>\n      <td>9.999980e+05</td>\n      <td>4.850000e+04</td>\n      <td>2.116196e+09</td>\n      <td>9.999980e+05</td>\n      <td>2.116196e+01</td>\n    </tr>\n  </tbody>\n</table>\n</div>"
     },
     "execution_count": 39,
     "metadata": {},
     "output_type": "execute_result"
    }
   ],
   "source": [
    "df = get_bb_df(2021, 9, 15)\n",
    "df = df.append(get_bb_df(2021, 9, 16))\n",
    "df = df.append(get_bb_df(2021, 9, 17))\n",
    "\n",
    "df.describe()"
   ],
   "metadata": {
    "collapsed": false,
    "pycharm": {
     "name": "#%%\n"
    }
   }
  },
  {
   "cell_type": "markdown",
   "source": [
    "## 価格の分布を調べる"
   ],
   "metadata": {
    "collapsed": false,
    "pycharm": {
     "name": "#%% md\n"
    }
   }
  },
  {
   "cell_type": "code",
   "execution_count": 40,
   "outputs": [
    {
     "name": "stderr",
     "output_type": "stream",
     "text": [
      "/Users/takeoyasukawa/Projects/bbanalyze/venv/lib/python3.9/site-packages/seaborn/distributions.py:2619: FutureWarning: `distplot` is a deprecated function and will be removed in a future version. Please adapt your code to use either `displot` (a figure-level function with similar flexibility) or `histplot` (an axes-level function for histograms).\n",
      "  warnings.warn(msg, FutureWarning)\n"
     ]
    },
    {
     "data": {
      "text/plain": "<Figure size 432x288 with 1 Axes>",
      "image/png": "[encoded data removed]"
     },
     "metadata": {
      "needs_background": "light"
     },
     "output_type": "display_data"
    },
    {
     "data": {
      "text/plain": "<Figure size 432x288 with 1 Axes>",
      "image/png": "[encoded data removed]"
     },
     "metadata": {
      "needs_background": "light"
     },
     "output_type": "display_data"
    },
    {
     "name": "stdout",
     "output_type": "stream",
     "text": [
      "sharp ratio= ShapiroResult(statistic=0.36617863178253174, pvalue=0.0)\n",
      "KS ratio= KstestResult(statistic=1.0, pvalue=0.0)\n"
     ]
    },
    {
     "name": "stderr",
     "output_type": "stream",
     "text": [
      "/Users/takeoyasukawa/Projects/bbanalyze/venv/lib/python3.9/site-packages/scipy/stats/morestats.py:1760: UserWarning: p-value may not be accurate for N > 5000.\n",
      "  warnings.warn(\"p-value may not be accurate for N > 5000.\")\n"
     ]
    }
   ],
   "source": [
    "compare_normal_dist(df['price'])"
   ],
   "metadata": {
    "collapsed": false,
    "pycharm": {
     "name": "#%%\n"
    }
   }
  },
  {
   "cell_type": "markdown",
   "source": [
    "## 価格のlogを取った場合"
   ],
   "metadata": {
    "collapsed": false,
    "pycharm": {
     "name": "#%% md\n"
    }
   }
  },
  {
   "cell_type": "code",
   "execution_count": 41,
   "outputs": [
    {
     "name": "stderr",
     "output_type": "stream",
     "text": [
      "/Users/takeoyasukawa/Projects/bbanalyze/venv/lib/python3.9/site-packages/seaborn/distributions.py:2619: FutureWarning: `distplot` is a deprecated function and will be removed in a future version. Please adapt your code to use either `displot` (a figure-level function with similar flexibility) or `histplot` (an axes-level function for histograms).\n",
      "  warnings.warn(msg, FutureWarning)\n"
     ]
    },
    {
     "data": {
      "text/plain": "<Figure size 432x288 with 1 Axes>",
      "image/png": "[encoded data removed]"
     },
     "metadata": {
      "needs_background": "light"
     },
     "output_type": "display_data"
    },
    {
     "data": {
      "text/plain": "<Figure size 432x288 with 1 Axes>",
      "image/png": "[encoded data removed]"
     },
     "metadata": {
      "needs_background": "light"
     },
     "output_type": "display_data"
    },
    {
     "name": "stdout",
     "output_type": "stream",
     "text": [
      "sharp ratio= ShapiroResult(statistic=0.006885111331939697, pvalue=0.0)\n",
      "KS ratio= KstestResult(statistic=1.0, pvalue=0.0)\n"
     ]
    },
    {
     "name": "stderr",
     "output_type": "stream",
     "text": [
      "/Users/takeoyasukawa/Projects/bbanalyze/venv/lib/python3.9/site-packages/scipy/stats/morestats.py:1760: UserWarning: p-value may not be accurate for N > 5000.\n",
      "  warnings.warn(\"p-value may not be accurate for N > 5000.\")\n"
     ]
    }
   ],
   "source": [
    "compare_normal_dist(np.log(df['price']))\n"
   ],
   "metadata": {
    "collapsed": false,
    "pycharm": {
     "name": "#%%\n"
    }
   }
  },
  {
   "cell_type": "markdown",
   "source": [
    "# 差分（リターン）の分布"
   ],
   "metadata": {
    "collapsed": false,
    "pycharm": {
     "name": "#%% md\n"
    }
   }
  },
  {
   "cell_type": "code",
   "execution_count": 42,
   "outputs": [
    {
     "name": "stderr",
     "output_type": "stream",
     "text": [
      "/Users/takeoyasukawa/Projects/bbanalyze/venv/lib/python3.9/site-packages/seaborn/distributions.py:2619: FutureWarning: `distplot` is a deprecated function and will be removed in a future version. Please adapt your code to use either `displot` (a figure-level function with similar flexibility) or `histplot` (an axes-level function for histograms).\n",
      "  warnings.warn(msg, FutureWarning)\n"
     ]
    },
    {
     "data": {
      "text/plain": "<Figure size 432x288 with 1 Axes>",
      "image/png": "[encoded data removed]"
     },
     "metadata": {
      "needs_background": "light"
     },
     "output_type": "display_data"
    },
    {
     "data": {
      "text/plain": "<Figure size 432x288 with 1 Axes>",
      "image/png": "[encoded data removed]"
     },
     "metadata": {
      "needs_background": "light"
     },
     "output_type": "display_data"
    },
    {
     "name": "stdout",
     "output_type": "stream",
     "text": [
      "sharp ratio= ShapiroResult(statistic=nan, pvalue=1.0)\n",
      "KS ratio= KstestResult(statistic=nan, pvalue=nan)\n"
     ]
    }
   ],
   "source": [
    "price = df['price']\n",
    "diff = price.resample('5T').mean().diff()\n",
    "\n",
    "compare_normal_dist(diff)\n"
   ],
   "metadata": {
    "collapsed": false,
    "pycharm": {
     "name": "#%%\n"
    }
   }
  },
  {
   "cell_type": "markdown",
   "source": [
    "ウェイトをいれた利益率"
   ],
   "metadata": {
    "collapsed": false,
    "pycharm": {
     "name": "#%% md\n"
    }
   }
  },
  {
   "cell_type": "code",
   "execution_count": 43,
   "outputs": [
    {
     "name": "stderr",
     "output_type": "stream",
     "text": [
      "/Users/takeoyasukawa/Projects/bbanalyze/venv/lib/python3.9/site-packages/seaborn/distributions.py:2619: FutureWarning: `distplot` is a deprecated function and will be removed in a future version. Please adapt your code to use either `displot` (a figure-level function with similar flexibility) or `histplot` (an axes-level function for histograms).\n",
      "  warnings.warn(msg, FutureWarning)\n"
     ]
    },
    {
     "data": {
      "text/plain": "<Figure size 432x288 with 1 Axes>",
      "image/png": "[encoded data removed]"
     },
     "metadata": {
      "needs_background": "light"
     },
     "output_type": "display_data"
    },
    {
     "data": {
      "text/plain": "<Figure size 432x288 with 1 Axes>",
      "image/png": "[encoded data removed]"
     },
     "metadata": {
      "needs_background": "light"
     },
     "output_type": "display_data"
    },
    {
     "name": "stdout",
     "output_type": "stream",
     "text": [
      "sharp ratio= ShapiroResult(statistic=0.9652337431907654, pvalue=1.7588674386306152e-13)\n",
      "KS ratio= KstestResult(statistic=1.0, pvalue=0.0)\n"
     ]
    }
   ],
   "source": [
    "diff = df.resample('5T')\n",
    "diff_s = diff.sum()\n",
    "\n",
    "diff_h = diff_s['homeNotional']\n",
    "diff_f = diff_s['foreignNotional']\n",
    "\n",
    "dist = diff_h/diff_f\n",
    "\n",
    "compare_normal_dist(dist)"
   ],
   "metadata": {
    "collapsed": false,
    "pycharm": {
     "name": "#%%\n"
    }
   }
  },
  {
   "cell_type": "code",
   "execution_count": 44,
   "outputs": [
    {
     "name": "stderr",
     "output_type": "stream",
     "text": [
      "/Users/takeoyasukawa/Projects/bbanalyze/venv/lib/python3.9/site-packages/seaborn/distributions.py:2619: FutureWarning: `distplot` is a deprecated function and will be removed in a future version. Please adapt your code to use either `displot` (a figure-level function with similar flexibility) or `histplot` (an axes-level function for histograms).\n",
      "  warnings.warn(msg, FutureWarning)\n"
     ]
    },
    {
     "data": {
      "text/plain": "<Figure size 432x288 with 1 Axes>",
      "image/png": "[encoded data removed]"
     },
     "metadata": {
      "needs_background": "light"
     },
     "output_type": "display_data"
    },
    {
     "data": {
      "text/plain": "<Figure size 432x288 with 1 Axes>",
      "image/png": "[encoded data removed]"
     },
     "metadata": {
      "needs_background": "light"
     },
     "output_type": "display_data"
    },
    {
     "name": "stdout",
     "output_type": "stream",
     "text": [
      "sharp ratio= ShapiroResult(statistic=nan, pvalue=1.0)\n",
      "KS ratio= KstestResult(statistic=nan, pvalue=nan)\n"
     ]
    }
   ],
   "source": [
    "compare_normal_dist(dist.diff())\n"
   ],
   "metadata": {
    "collapsed": false,
    "pycharm": {
     "name": "#%%\n"
    }
   }
  },
  {
   "cell_type": "code",
   "execution_count": 46,
   "outputs": [
    {
     "data": {
      "text/plain": "                                     symbol  side    size    price  \\\ntimestamp                                                            \n2021-09-15 23:59:58.640999936+00:00  BTCUSD   Buy    9894  48121.5   \n2021-09-15 23:59:58.640999936+00:00  BTCUSD   Buy   87822  48121.5   \n2021-09-15 23:59:58.640999936+00:00  BTCUSD   Buy  100580  48121.5   \n2021-09-15 23:59:58.024000+00:00     BTCUSD  Sell    3280  48121.0   \n2021-09-15 23:59:54.726000128+00:00  BTCUSD   Buy     108  48121.5   \n...                                     ...   ...     ...      ...   \n2021-09-17 00:00:01.358000128+00:00  BTCUSD   Buy       1  47779.0   \n2021-09-17 00:00:00.298000128+00:00  BTCUSD  Sell    9265  47778.5   \n2021-09-17 00:00:00.298000128+00:00  BTCUSD  Sell    3706  47778.5   \n2021-09-17 00:00:00.220999936+00:00  BTCUSD  Sell       3  47778.5   \n2021-09-17 00:00:00.158999808+00:00  BTCUSD   Buy     385  47779.0   \n\n                                     tickDirection  \\\ntimestamp                                            \n2021-09-15 23:59:58.640999936+00:00  ZeroMinusTick   \n2021-09-15 23:59:58.640999936+00:00  ZeroMinusTick   \n2021-09-15 23:59:58.640999936+00:00       PlusTick   \n2021-09-15 23:59:58.024000+00:00         MinusTick   \n2021-09-15 23:59:54.726000128+00:00       PlusTick   \n...                                            ...   \n2021-09-17 00:00:01.358000128+00:00       PlusTick   \n2021-09-17 00:00:00.298000128+00:00  ZeroMinusTick   \n2021-09-17 00:00:00.298000128+00:00  ZeroMinusTick   \n2021-09-17 00:00:00.220999936+00:00      MinusTick   \n2021-09-17 00:00:00.158999808+00:00      MinusTick   \n\n                                                               trdMatchID  \\\ntimestamp                                                                   \n2021-09-15 23:59:58.640999936+00:00  7436036c-9802-599c-bcd3-55e5d04e9ba5   \n2021-09-15 23:59:58.640999936+00:00  f98688fb-55a9-5be3-a0d3-d3be5d9b2468   \n2021-09-15 23:59:58.640999936+00:00  c4b8f17a-5429-54d5-a6f9-4361a8228ad4   \n2021-09-15 23:59:58.024000+00:00     8207cc1e-0ecb-5653-912e-954b0adb9089   \n2021-09-15 23:59:54.726000128+00:00  16692672-507c-5732-a8a9-47e5b9f13fbe   \n...                                                                   ...   \n2021-09-17 00:00:01.358000128+00:00  8e7216de-f743-5144-a6d0-a7dbb5dc3d77   \n2021-09-17 00:00:00.298000128+00:00  58f5d815-100c-5992-9400-719759d47916   \n2021-09-17 00:00:00.298000128+00:00  1891d209-990f-5fe7-b571-12a15cb5840f   \n2021-09-17 00:00:00.220999936+00:00  705c6515-ee17-5103-8599-3c4ba02627de   \n2021-09-17 00:00:00.158999808+00:00  958b223d-01a0-5804-b5a0-5d31871b23bd   \n\n                                      grossValue  homeNotional  \\\ntimestamp                                                        \n2021-09-15 23:59:58.640999936+00:00   20560456.0          9894   \n2021-09-15 23:59:58.640999936+00:00  182500545.0         87822   \n2021-09-15 23:59:58.640999936+00:00  209012603.0        100580   \n2021-09-15 23:59:58.024000+00:00       6816150.0          3280   \n2021-09-15 23:59:54.726000128+00:00     224431.0           108   \n...                                          ...           ...   \n2021-09-17 00:00:01.358000128+00:00       2092.0             1   \n2021-09-17 00:00:00.298000128+00:00   19391567.0          9265   \n2021-09-17 00:00:00.298000128+00:00    7756626.0          3706   \n2021-09-17 00:00:00.220999936+00:00       6278.0             3   \n2021-09-17 00:00:00.158999808+00:00     805793.0           385   \n\n                                     foreignNotional     sumsize  \ntimestamp                                                         \n2021-09-15 23:59:58.640999936+00:00         0.205605        9894  \n2021-09-15 23:59:58.640999936+00:00         1.825005       97716  \n2021-09-15 23:59:58.640999936+00:00         2.090126      198296  \n2021-09-15 23:59:58.024000+00:00            0.068161      201576  \n2021-09-15 23:59:54.726000128+00:00         0.002244      201684  \n...                                              ...         ...  \n2021-09-17 00:00:01.358000128+00:00         0.000021  8683836700  \n2021-09-17 00:00:00.298000128+00:00         0.193916  8683845965  \n2021-09-17 00:00:00.298000128+00:00         0.077566  8683849671  \n2021-09-17 00:00:00.220999936+00:00         0.000063  8683849674  \n2021-09-17 00:00:00.158999808+00:00         0.008058  8683850059  \n\n[1386235 rows x 10 columns]",
      "text/html": "<div>\n<style scoped>\n    .dataframe tbody tr th:only-of-type {\n        vertical-align: middle;\n    }\n\n    .dataframe tbody tr th {\n        vertical-align: top;\n    }\n\n    .dataframe thead th {\n        text-align: right;\n    }\n</style>\n<table border=\"1\" class=\"dataframe\">\n  <thead>\n    <tr style=\"text-align: right;\">\n      <th></th>\n      <th>symbol</th>\n      <th>side</th>\n      <th>size</th>\n      <th>price</th>\n      <th>tickDirection</th>\n      <th>trdMatchID</th>\n      <th>grossValue</th>\n      <th>homeNotional</th>\n      <th>foreignNotional</th>\n      <th>sumsize</th>\n    </tr>\n    <tr>\n      <th>timestamp</th>\n      <th></th>\n      <th></th>\n      <th></th>\n      <th></th>\n      <th></th>\n      <th></th>\n      <th></th>\n      <th></th>\n      <th></th>\n      <th></th>\n    </tr>\n  </thead>\n  <tbody>\n    <tr>\n      <th>2021-09-15 23:59:58.640999936+00:00</th>\n      <td>BTCUSD</td>\n      <td>Buy</td>\n      <td>9894</td>\n      <td>48121.5</td>\n      <td>ZeroMinusTick</td>\n      <td>7436036c-9802-599c-bcd3-55e5d04e9ba5</td>\n      <td>20560456.0</td>\n      <td>9894</td>\n      <td>0.205605</td>\n      <td>9894</td>\n    </tr>\n    <tr>\n      <th>2021-09-15 23:59:58.640999936+00:00</th>\n      <td>BTCUSD</td>\n      <td>Buy</td>\n      <td>87822</td>\n      <td>48121.5</td>\n      <td>ZeroMinusTick</td>\n      <td>f98688fb-55a9-5be3-a0d3-d3be5d9b2468</td>\n      <td>182500545.0</td>\n      <td>87822</td>\n      <td>1.825005</td>\n      <td>97716</td>\n    </tr>\n    <tr>\n      <th>2021-09-15 23:59:58.640999936+00:00</th>\n      <td>BTCUSD</td>\n      <td>Buy</td>\n      <td>100580</td>\n      <td>48121.5</td>\n      <td>PlusTick</td>\n      <td>c4b8f17a-5429-54d5-a6f9-4361a8228ad4</td>\n      <td>209012603.0</td>\n      <td>100580</td>\n      <td>2.090126</td>\n      <td>198296</td>\n    </tr>\n    <tr>\n      <th>2021-09-15 23:59:58.024000+00:00</th>\n      <td>BTCUSD</td>\n      <td>Sell</td>\n      <td>3280</td>\n      <td>48121.0</td>\n      <td>MinusTick</td>\n      <td>8207cc1e-0ecb-5653-912e-954b0adb9089</td>\n      <td>6816150.0</td>\n      <td>3280</td>\n      <td>0.068161</td>\n      <td>201576</td>\n    </tr>\n    <tr>\n      <th>2021-09-15 23:59:54.726000128+00:00</th>\n      <td>BTCUSD</td>\n      <td>Buy</td>\n      <td>108</td>\n      <td>48121.5</td>\n      <td>PlusTick</td>\n      <td>16692672-507c-5732-a8a9-47e5b9f13fbe</td>\n      <td>224431.0</td>\n      <td>108</td>\n      <td>0.002244</td>\n      <td>201684</td>\n    </tr>\n    <tr>\n      <th>...</th>\n      <td>...</td>\n      <td>...</td>\n      <td>...</td>\n      <td>...</td>\n      <td>...</td>\n      <td>...</td>\n      <td>...</td>\n      <td>...</td>\n      <td>...</td>\n      <td>...</td>\n    </tr>\n    <tr>\n      <th>2021-09-17 00:00:01.358000128+00:00</th>\n      <td>BTCUSD</td>\n      <td>Buy</td>\n      <td>1</td>\n      <td>47779.0</td>\n      <td>PlusTick</td>\n      <td>8e7216de-f743-5144-a6d0-a7dbb5dc3d77</td>\n      <td>2092.0</td>\n      <td>1</td>\n      <td>0.000021</td>\n      <td>8683836700</td>\n    </tr>\n    <tr>\n      <th>2021-09-17 00:00:00.298000128+00:00</th>\n      <td>BTCUSD</td>\n      <td>Sell</td>\n      <td>9265</td>\n      <td>47778.5</td>\n      <td>ZeroMinusTick</td>\n      <td>58f5d815-100c-5992-9400-719759d47916</td>\n      <td>19391567.0</td>\n      <td>9265</td>\n      <td>0.193916</td>\n      <td>8683845965</td>\n    </tr>\n    <tr>\n      <th>2021-09-17 00:00:00.298000128+00:00</th>\n      <td>BTCUSD</td>\n      <td>Sell</td>\n      <td>3706</td>\n      <td>47778.5</td>\n      <td>ZeroMinusTick</td>\n      <td>1891d209-990f-5fe7-b571-12a15cb5840f</td>\n      <td>7756626.0</td>\n      <td>3706</td>\n      <td>0.077566</td>\n      <td>8683849671</td>\n    </tr>\n    <tr>\n      <th>2021-09-17 00:00:00.220999936+00:00</th>\n      <td>BTCUSD</td>\n      <td>Sell</td>\n      <td>3</td>\n      <td>47778.5</td>\n      <td>MinusTick</td>\n      <td>705c6515-ee17-5103-8599-3c4ba02627de</td>\n      <td>6278.0</td>\n      <td>3</td>\n      <td>0.000063</td>\n      <td>8683849674</td>\n    </tr>\n    <tr>\n      <th>2021-09-17 00:00:00.158999808+00:00</th>\n      <td>BTCUSD</td>\n      <td>Buy</td>\n      <td>385</td>\n      <td>47779.0</td>\n      <td>MinusTick</td>\n      <td>958b223d-01a0-5804-b5a0-5d31871b23bd</td>\n      <td>805793.0</td>\n      <td>385</td>\n      <td>0.008058</td>\n      <td>8683850059</td>\n    </tr>\n  </tbody>\n</table>\n<p>1386235 rows × 10 columns</p>\n</div>"
     },
     "execution_count": 46,
     "metadata": {},
     "output_type": "execute_result"
    }
   ],
   "source": [
    "df['sumsize'] = df['size'].cumsum()\n",
    "\n"
   ],
   "metadata": {
    "collapsed": false,
    "pycharm": {
     "name": "#%%\n"
    }
   }
  },
  {
   "cell_type": "code",
   "execution_count": 432,
   "outputs": [],
   "source": [
    "def TrimData(exec_df, shift, width=pd.Timedelta('10m')):\n",
    "    start_time = exec_df.index[-1] + shift\n",
    "    end_time = start_time + width\n",
    "\n",
    "    exec_df = exec_df[(start_time < exec_df.index) & (exec_df.index < end_time) ]\n",
    "    print(start_time, end_time, len(exec_df))\n",
    "\n",
    "    return exec_df\n",
    "\n",
    "\n",
    "def DistPlot(exec_df, shift, width=pd.Timedelta('10m')):\n",
    "    exec_df = TrimData(exec_df, shift, width)\n",
    "\n",
    "    price = exec_df['price']\n",
    "    diff = price.resample('1T').mean().diff()\n",
    "    sns.distplot(diff, fit=t)\n",
    "\n",
    "\n",
    "\n",
    "def ExecDistPlot(exec_df, shift, width=pd.Timedelta('10m')):\n",
    "    exec_df = TrimData(exec_df, shift, width)\n",
    "\n",
    "    price = exec_df['price']\n",
    "    mean = price.resample('1T').mean()\n",
    "    sns.distplot(mean, fit=t)\n",
    "\n",
    "def StatExec(exec_df):\n",
    "    group = exec_df.groupby(by=['price']).sum()\n",
    "    print(group)\n",
    "    return group\n"
   ],
   "metadata": {
    "collapsed": false,
    "pycharm": {
     "name": "#%%\n"
    }
   }
  },
  {
   "cell_type": "code",
   "execution_count": 433,
   "outputs": [
    {
     "name": "stdout",
     "output_type": "stream",
     "text": [
      "            size    grossValue  homeNotional  foreignNotional\n",
      "price                                                        \n",
      "44672.5    84664  1.895215e+08         84664         1.895215\n",
      "44673.0    48031  1.075168e+08         48031         1.075168\n",
      "44673.5  1037097  2.321504e+09       1037097        23.215038\n",
      "44674.0   234656  5.252630e+08        234656         5.252630\n",
      "44674.5   402298  9.005092e+08        402298         9.005092\n",
      "...          ...           ...           ...              ...\n",
      "47242.0        1  2.116000e+03             1         0.000021\n",
      "47242.5     1532  3.242842e+06          1532         0.032428\n",
      "47243.0   228377  4.834092e+08        228377         4.834092\n",
      "47243.5   263143  5.569930e+08        263143         5.569930\n",
      "47244.0   358622  7.590847e+08        358622         7.590847\n",
      "\n",
      "[5123 rows x 4 columns]\n"
     ]
    }
   ],
   "source": [
    "stat = StatExec(df).sum()"
   ],
   "metadata": {
    "collapsed": false,
    "pycharm": {
     "name": "#%%\n"
    }
   }
  },
  {
   "cell_type": "code",
   "execution_count": 434,
   "outputs": [
    {
     "ename": "ValueError",
     "evalue": "Could not interpret input 'price'",
     "output_type": "error",
     "traceback": [
      "\u001B[0;31m---------------------------------------------------------------------------\u001B[0m",
      "\u001B[0;31mValueError\u001B[0m                                Traceback (most recent call last)",
      "\u001B[0;32m/var/folders/5r/xmxmz7gj2cjcb7d65tgwvrt40000gn/T/ipykernel_61891/2644760980.py\u001B[0m in \u001B[0;36m<module>\u001B[0;34m\u001B[0m\n\u001B[0;32m----> 1\u001B[0;31m \u001B[0msns\u001B[0m\u001B[0;34m.\u001B[0m\u001B[0mbarplot\u001B[0m\u001B[0;34m(\u001B[0m\u001B[0mdata\u001B[0m\u001B[0;34m=\u001B[0m\u001B[0mstat\u001B[0m\u001B[0;34m,\u001B[0m \u001B[0mx\u001B[0m\u001B[0;34m=\u001B[0m\u001B[0;34m'price'\u001B[0m\u001B[0;34m,\u001B[0m \u001B[0my\u001B[0m\u001B[0;34m=\u001B[0m\u001B[0;34m'size'\u001B[0m\u001B[0;34m)\u001B[0m\u001B[0;34m\u001B[0m\u001B[0;34m\u001B[0m\u001B[0m\n\u001B[0m\u001B[1;32m      2\u001B[0m \u001B[0;34m\u001B[0m\u001B[0m\n",
      "\u001B[0;32m~/Projects/bbanalyze/venv/lib/python3.9/site-packages/seaborn/_decorators.py\u001B[0m in \u001B[0;36minner_f\u001B[0;34m(*args, **kwargs)\u001B[0m\n\u001B[1;32m     44\u001B[0m             )\n\u001B[1;32m     45\u001B[0m         \u001B[0mkwargs\u001B[0m\u001B[0;34m.\u001B[0m\u001B[0mupdate\u001B[0m\u001B[0;34m(\u001B[0m\u001B[0;34m{\u001B[0m\u001B[0mk\u001B[0m\u001B[0;34m:\u001B[0m \u001B[0marg\u001B[0m \u001B[0;32mfor\u001B[0m \u001B[0mk\u001B[0m\u001B[0;34m,\u001B[0m \u001B[0marg\u001B[0m \u001B[0;32min\u001B[0m \u001B[0mzip\u001B[0m\u001B[0;34m(\u001B[0m\u001B[0msig\u001B[0m\u001B[0;34m.\u001B[0m\u001B[0mparameters\u001B[0m\u001B[0;34m,\u001B[0m \u001B[0margs\u001B[0m\u001B[0;34m)\u001B[0m\u001B[0;34m}\u001B[0m\u001B[0;34m)\u001B[0m\u001B[0;34m\u001B[0m\u001B[0;34m\u001B[0m\u001B[0m\n\u001B[0;32m---> 46\u001B[0;31m         \u001B[0;32mreturn\u001B[0m \u001B[0mf\u001B[0m\u001B[0;34m(\u001B[0m\u001B[0;34m**\u001B[0m\u001B[0mkwargs\u001B[0m\u001B[0;34m)\u001B[0m\u001B[0;34m\u001B[0m\u001B[0;34m\u001B[0m\u001B[0m\n\u001B[0m\u001B[1;32m     47\u001B[0m     \u001B[0;32mreturn\u001B[0m \u001B[0minner_f\u001B[0m\u001B[0;34m\u001B[0m\u001B[0;34m\u001B[0m\u001B[0m\n\u001B[1;32m     48\u001B[0m \u001B[0;34m\u001B[0m\u001B[0m\n",
      "\u001B[0;32m~/Projects/bbanalyze/venv/lib/python3.9/site-packages/seaborn/categorical.py\u001B[0m in \u001B[0;36mbarplot\u001B[0;34m(x, y, hue, data, order, hue_order, estimator, ci, n_boot, units, seed, orient, color, palette, saturation, errcolor, errwidth, capsize, dodge, ax, **kwargs)\u001B[0m\n\u001B[1;32m   3180\u001B[0m ):\n\u001B[1;32m   3181\u001B[0m \u001B[0;34m\u001B[0m\u001B[0m\n\u001B[0;32m-> 3182\u001B[0;31m     plotter = _BarPlotter(x, y, hue, data, order, hue_order,\n\u001B[0m\u001B[1;32m   3183\u001B[0m                           \u001B[0mestimator\u001B[0m\u001B[0;34m,\u001B[0m \u001B[0mci\u001B[0m\u001B[0;34m,\u001B[0m \u001B[0mn_boot\u001B[0m\u001B[0;34m,\u001B[0m \u001B[0munits\u001B[0m\u001B[0;34m,\u001B[0m \u001B[0mseed\u001B[0m\u001B[0;34m,\u001B[0m\u001B[0;34m\u001B[0m\u001B[0;34m\u001B[0m\u001B[0m\n\u001B[1;32m   3184\u001B[0m                           \u001B[0morient\u001B[0m\u001B[0;34m,\u001B[0m \u001B[0mcolor\u001B[0m\u001B[0;34m,\u001B[0m \u001B[0mpalette\u001B[0m\u001B[0;34m,\u001B[0m \u001B[0msaturation\u001B[0m\u001B[0;34m,\u001B[0m\u001B[0;34m\u001B[0m\u001B[0;34m\u001B[0m\u001B[0m\n",
      "\u001B[0;32m~/Projects/bbanalyze/venv/lib/python3.9/site-packages/seaborn/categorical.py\u001B[0m in \u001B[0;36m__init__\u001B[0;34m(self, x, y, hue, data, order, hue_order, estimator, ci, n_boot, units, seed, orient, color, palette, saturation, errcolor, errwidth, capsize, dodge)\u001B[0m\n\u001B[1;32m   1582\u001B[0m                  errwidth, capsize, dodge):\n\u001B[1;32m   1583\u001B[0m         \u001B[0;34m\"\"\"Initialize the plotter.\"\"\"\u001B[0m\u001B[0;34m\u001B[0m\u001B[0;34m\u001B[0m\u001B[0m\n\u001B[0;32m-> 1584\u001B[0;31m         self.establish_variables(x, y, hue, data, orient,\n\u001B[0m\u001B[1;32m   1585\u001B[0m                                  order, hue_order, units)\n\u001B[1;32m   1586\u001B[0m         \u001B[0mself\u001B[0m\u001B[0;34m.\u001B[0m\u001B[0mestablish_colors\u001B[0m\u001B[0;34m(\u001B[0m\u001B[0mcolor\u001B[0m\u001B[0;34m,\u001B[0m \u001B[0mpalette\u001B[0m\u001B[0;34m,\u001B[0m \u001B[0msaturation\u001B[0m\u001B[0;34m)\u001B[0m\u001B[0;34m\u001B[0m\u001B[0;34m\u001B[0m\u001B[0m\n",
      "\u001B[0;32m~/Projects/bbanalyze/venv/lib/python3.9/site-packages/seaborn/categorical.py\u001B[0m in \u001B[0;36mestablish_variables\u001B[0;34m(self, x, y, hue, data, orient, order, hue_order, units)\u001B[0m\n\u001B[1;32m    151\u001B[0m                 \u001B[0;32mif\u001B[0m \u001B[0misinstance\u001B[0m\u001B[0;34m(\u001B[0m\u001B[0mvar\u001B[0m\u001B[0;34m,\u001B[0m \u001B[0mstr\u001B[0m\u001B[0;34m)\u001B[0m\u001B[0;34m:\u001B[0m\u001B[0;34m\u001B[0m\u001B[0;34m\u001B[0m\u001B[0m\n\u001B[1;32m    152\u001B[0m                     \u001B[0merr\u001B[0m \u001B[0;34m=\u001B[0m \u001B[0;34m\"Could not interpret input '{}'\"\u001B[0m\u001B[0;34m.\u001B[0m\u001B[0mformat\u001B[0m\u001B[0;34m(\u001B[0m\u001B[0mvar\u001B[0m\u001B[0;34m)\u001B[0m\u001B[0;34m\u001B[0m\u001B[0;34m\u001B[0m\u001B[0m\n\u001B[0;32m--> 153\u001B[0;31m                     \u001B[0;32mraise\u001B[0m \u001B[0mValueError\u001B[0m\u001B[0;34m(\u001B[0m\u001B[0merr\u001B[0m\u001B[0;34m)\u001B[0m\u001B[0;34m\u001B[0m\u001B[0;34m\u001B[0m\u001B[0m\n\u001B[0m\u001B[1;32m    154\u001B[0m \u001B[0;34m\u001B[0m\u001B[0m\n\u001B[1;32m    155\u001B[0m             \u001B[0;31m# Figure out the plotting orientation\u001B[0m\u001B[0;34m\u001B[0m\u001B[0;34m\u001B[0m\u001B[0;34m\u001B[0m\u001B[0m\n",
      "\u001B[0;31mValueError\u001B[0m: Could not interpret input 'price'"
     ]
    }
   ],
   "source": [
    "sns.barplot(data=stat, x='price', y='size')"
   ],
   "metadata": {
    "collapsed": false,
    "pycharm": {
     "name": "#%%\n"
    }
   }
  },
  {
   "cell_type": "code",
   "execution_count": null,
   "outputs": [],
   "source": [
    "sns.countplot(stat)"
   ],
   "metadata": {
    "collapsed": false,
    "pycharm": {
     "name": "#%%\n"
    }
   }
  },
  {
   "cell_type": "code",
   "execution_count": null,
   "outputs": [],
   "source": [
    "print(stat)\n",
    "\n",
    "print(stat.sum())"
   ],
   "metadata": {
    "collapsed": false,
    "pycharm": {
     "name": "#%%\n"
    }
   }
  },
  {
   "cell_type": "code",
   "execution_count": null,
   "outputs": [],
   "source": [
    "DistPlot(df, pd.Timedelta('10m'))"
   ],
   "metadata": {
    "collapsed": false,
    "pycharm": {
     "name": "#%%\n"
    }
   }
  },
  {
   "cell_type": "code",
   "execution_count": null,
   "outputs": [],
   "source": [
    "DistPlot(df, pd.Timedelta('20m'))"
   ],
   "metadata": {
    "collapsed": false,
    "pycharm": {
     "name": "#%%\n"
    }
   }
  },
  {
   "cell_type": "code",
   "execution_count": null,
   "outputs": [],
   "source": [
    "DistPlot(df, pd.Timedelta('60m'))"
   ],
   "metadata": {
    "collapsed": false,
    "pycharm": {
     "name": "#%%\n"
    }
   }
  },
  {
   "cell_type": "code",
   "execution_count": null,
   "outputs": [],
   "source": [
    "ExecDistPlot(df, pd.Timedelta('120m'))"
   ],
   "metadata": {
    "collapsed": false,
    "pycharm": {
     "name": "#%%\n"
    }
   }
  },
  {
   "cell_type": "code",
   "execution_count": null,
   "outputs": [],
   "source": [
    "ExecDistPlot(df, pd.Timedelta('10m'))"
   ],
   "metadata": {
    "collapsed": false,
    "pycharm": {
     "name": "#%%\n"
    }
   }
  },
  {
   "cell_type": "code",
   "execution_count": null,
   "outputs": [],
   "source": [
    "ExecDistPlot(df, pd.Timedelta('20m'))"
   ],
   "metadata": {
    "collapsed": false,
    "pycharm": {
     "name": "#%%\n"
    }
   }
  },
  {
   "cell_type": "code",
   "execution_count": null,
   "outputs": [],
   "source": [
    "ExecDistPlot(df, pd.Timedelta('60m'))"
   ],
   "metadata": {
    "collapsed": false,
    "pycharm": {
     "name": "#%%\n"
    }
   }
  },
  {
   "cell_type": "code",
   "execution_count": null,
   "outputs": [],
   "source": [
    "ExecDistPlot(df, pd.Timedelta('120m'))\n",
    "\n",
    "\n",
    "\n"
   ],
   "metadata": {
    "collapsed": false,
    "pycharm": {
     "name": "#%%\n"
    }
   }
  },
  {
   "cell_type": "code",
   "execution_count": null,
   "outputs": [],
   "source": [
    "start_time = df.index[-1]\n",
    "start_time"
   ],
   "metadata": {
    "collapsed": false,
    "pycharm": {
     "name": "#%%\n"
    }
   }
  },
  {
   "cell_type": "code",
   "execution_count": null,
   "outputs": [],
   "source": [
    "end_time = start_time + pd.Timedelta('30m')\n",
    "df = df[df.index < end_time]\n",
    "price = df['price']\n",
    "\n",
    "diff = price.resample('2T').mean().diff()\n",
    "sns.distplot(diff, fit=t)"
   ],
   "metadata": {
    "collapsed": false,
    "pycharm": {
     "name": "#%%\n"
    }
   }
  },
  {
   "cell_type": "code",
   "execution_count": null,
   "outputs": [],
   "source": [
    "df"
   ],
   "metadata": {
    "collapsed": false,
    "pycharm": {
     "name": "#%%\n"
    }
   }
  },
  {
   "cell_type": "code",
   "execution_count": null,
   "outputs": [],
   "source": [
    "start_time = start_time + pd.Timedelta('100m')\n",
    "end_time = start_time + pd.Timedelta('30m')\n",
    "df = df[(start_time <= df.index) & (df.index <= end_time)]\n",
    "\n",
    "df\n",
    "\n"
   ],
   "metadata": {
    "collapsed": false,
    "pycharm": {
     "name": "#%%\n"
    }
   }
  },
  {
   "cell_type": "code",
   "execution_count": null,
   "outputs": [],
   "source": [
    "diff = price.resample('2T').mean().diff()\n",
    "sns.distplot(diff, fit=t)\n",
    "\n",
    "\n"
   ],
   "metadata": {
    "collapsed": false,
    "pycharm": {
     "name": "#%%\n"
    }
   }
  },
  {
   "cell_type": "code",
   "execution_count": null,
   "outputs": [],
   "source": [
    "buy_df = df[df[\"side\"] == \"Buy\"]\n",
    "buy_df.describe()"
   ],
   "metadata": {
    "collapsed": false,
    "pycharm": {
     "name": "#%%\n"
    }
   }
  },
  {
   "cell_type": "code",
   "execution_count": null,
   "outputs": [],
   "source": [
    "sell_df = df[df[\"side\"] == \"Sell\"]\n",
    "sell_df.describe()\n"
   ],
   "metadata": {
    "collapsed": false,
    "pycharm": {
     "name": "#%%\n"
    }
   }
  },
  {
   "cell_type": "code",
   "execution_count": null,
   "outputs": [],
   "source": [
    "fig = plt.figure()\n",
    "\n",
    "x1 = df.index\n",
    "price = df['price']\n",
    "\n",
    "plt.plot(x1, price, label=\"exec\")\n",
    "\n",
    "plt.show()\n"
   ],
   "metadata": {
    "collapsed": false,
    "pycharm": {
     "name": "#%%\n"
    }
   }
  },
  {
   "cell_type": "code",
   "execution_count": null,
   "outputs": [],
   "source": [
    "edgedf = pd.read_csv(\"../DATA/BTCUSD2021-08-31.edge.csv.gz\", index_col=0)\n",
    "\n",
    "edgedf.index = pd.to_datetime(edgedf.index * 1_000)\n",
    "\n",
    "\n",
    "\n",
    "edgedf"
   ],
   "metadata": {
    "collapsed": false,
    "pycharm": {
     "name": "#%%\n"
    }
   }
  },
  {
   "cell_type": "code",
   "execution_count": null,
   "outputs": [],
   "source": [
    "edgedf.columns"
   ],
   "metadata": {
    "collapsed": false,
    "pycharm": {
     "name": "#%%\n"
    }
   }
  },
  {
   "cell_type": "code",
   "execution_count": null,
   "outputs": [],
   "source": [
    "df.columns"
   ],
   "metadata": {
    "collapsed": false,
    "pycharm": {
     "name": "#%%\n"
    }
   }
  },
  {
   "cell_type": "code",
   "execution_count": null,
   "outputs": [],
   "source": [
    "start_time = df.index[-1]\n",
    "start_time"
   ],
   "metadata": {
    "collapsed": false,
    "pycharm": {
     "name": "#%%\n"
    }
   }
  },
  {
   "cell_type": "code",
   "execution_count": null,
   "outputs": [],
   "source": [
    "end_time = start_time + pd.Timedelta('30m')\n",
    "end_time"
   ],
   "metadata": {
    "collapsed": false,
    "pycharm": {
     "name": "#%%\n"
    }
   }
  },
  {
   "cell_type": "code",
   "execution_count": null,
   "outputs": [],
   "source": [],
   "metadata": {
    "collapsed": false,
    "pycharm": {
     "name": "#%%\n"
    }
   }
  },
  {
   "cell_type": "code",
   "execution_count": null,
   "outputs": [],
   "source": [
    "df = df[df.index < end_time]\n",
    "df"
   ],
   "metadata": {
    "collapsed": false,
    "pycharm": {
     "name": "#%%\n"
    }
   }
  },
  {
   "cell_type": "code",
   "execution_count": null,
   "outputs": [],
   "source": [
    "edgedf = edgedf[edgedf.index < end_time]\n",
    "edgedf"
   ],
   "metadata": {
    "collapsed": false,
    "pycharm": {
     "name": "#%%\n"
    }
   }
  },
  {
   "cell_type": "code",
   "execution_count": null,
   "outputs": [],
   "source": [
    "x1 = df.index\n",
    "price = df['price']\n",
    "\n",
    "x2 = edgedf.index\n",
    "buyprice = edgedf['buyprice']\n",
    "sellprice = edgedf['sellprice']\n",
    "\n",
    "buyedge = edgedf['buyedge']\n",
    "selledge = edgedf['selledge']\n"
   ],
   "metadata": {
    "collapsed": false,
    "pycharm": {
     "name": "#%%\n"
    }
   }
  },
  {
   "cell_type": "code",
   "execution_count": null,
   "outputs": [],
   "source": [
    "fig = plt.figure()\n",
    "\n",
    "plt.plot(x1, price, label=\"exec\")\n",
    "plt.plot(x2, buyprice, label='buy price')\n",
    "plt.plot(x2, sellprice, label='sell price')\n",
    "plt.plot(x2, buyedge, label='buy edge')\n",
    "plt.plot(x2, selledge, label='sell edge')\n",
    "\n",
    "plt.show()\n",
    "\n"
   ],
   "metadata": {
    "collapsed": false,
    "pycharm": {
     "name": "#%%\n"
    }
   }
  },
  {
   "cell_type": "markdown",
   "source": [
    "約定価格の決定ロジック\n",
    "\n",
    "* 直近価格を取り出す\n",
    "* taker  同一サイドの1tick先\n",
    "* maker  反対サイドの2tick先"
   ],
   "metadata": {
    "collapsed": false,
    "pycharm": {
     "name": "#%% md\n"
    }
   }
  },
  {
   "cell_type": "code",
   "execution_count": null,
   "outputs": [],
   "source": [
    "exec_head = df.head(10)\n",
    "\n",
    "exec_head\n",
    "\n",
    "\n",
    "\n",
    "\n",
    "\n"
   ],
   "metadata": {
    "collapsed": false,
    "pycharm": {
     "name": "#%%\n"
    }
   }
  },
  {
   "cell_type": "code",
   "execution_count": null,
   "outputs": [],
   "source": [
    "first_rec = df[df[\"side\"]==\"Sell\"].head(1)\n",
    "sell_price = float(first_rec[\"price\"])\n",
    "sell_time = first_rec[\"timestamp\"]\n",
    "\n"
   ],
   "metadata": {
    "collapsed": false,
    "pycharm": {
     "name": "#%%\n"
    }
   }
  },
  {
   "cell_type": "code",
   "execution_count": null,
   "outputs": [],
   "source": [
    "first_rec = df[df[\"side\"]==\"Buy\"].head(1)\n",
    "buy_price = float(first_rec[\"price\"])\n",
    "buy_time = first_rec[\"timestamp\"]"
   ],
   "metadata": {
    "collapsed": false,
    "pycharm": {
     "name": "#%%\n"
    }
   }
  },
  {
   "cell_type": "code",
   "execution_count": null,
   "outputs": [],
   "source": [
    "print(sell_time, sell_price)\n",
    "print(buy_time, buy_price)"
   ],
   "metadata": {
    "collapsed": false,
    "pycharm": {
     "name": "#%%\n"
    }
   }
  },
  {
   "cell_type": "markdown",
   "source": [
    "\n",
    "* 売り板が薄い時はスリップする可能性がある。 <-正確な値は板情報がないと出ない。\n",
    "* 逆行の勢いがある場合は約定しない。　←　約定データから計算できる。\n",
    "\n"
   ],
   "metadata": {
    "collapsed": false,
    "pycharm": {
     "name": "#%% md\n"
    }
   }
  },
  {
   "cell_type": "code",
   "execution_count": null,
   "outputs": [],
   "source": [
    "TICK = 0.5\n",
    "taker_buy = buy_price + TICK * 2\n",
    "maker_buy = sell_price + TICK * 2\n",
    "\n",
    "maker_buy"
   ],
   "metadata": {
    "collapsed": false,
    "pycharm": {
     "name": "#%%\n"
    }
   }
  },
  {
   "cell_type": "code",
   "execution_count": null,
   "outputs": [],
   "source": [
    "# check exec is done?\n",
    "\n",
    "df[(df[\"price\"]<=maker_buy) & (df[\"side\"] == \"Sell\")]\n"
   ],
   "metadata": {
    "collapsed": false,
    "pycharm": {
     "name": "#%%\n"
    }
   }
  },
  {
   "cell_type": "markdown",
   "source": [
    "## 正規性の検定\n",
    "変動率が正規分布に従うかを検証する。\n",
    "\n",
    "### 変動率の計算"
   ],
   "metadata": {
    "collapsed": false,
    "pycharm": {
     "name": "#%% md\n"
    }
   }
  },
  {
   "cell_type": "code",
   "execution_count": null,
   "outputs": [],
   "source": [
    "df.dtypes"
   ],
   "metadata": {
    "collapsed": false,
    "pycharm": {
     "name": "#%%\n"
    }
   }
  },
  {
   "cell_type": "code",
   "execution_count": null,
   "outputs": [],
   "source": [
    "\n",
    "price = df['timestamp']\n",
    "price.resample('1T')\n",
    "\n",
    "\n",
    "\n",
    "\n"
   ],
   "metadata": {
    "collapsed": false,
    "pycharm": {
     "name": "#%%\n"
    }
   }
  },
  {
   "cell_type": "code",
   "execution_count": null,
   "outputs": [],
   "source": [
    "tick = df['price'].resample('T').mean()\n",
    "tick\n",
    "\n"
   ],
   "metadata": {
    "collapsed": false,
    "pycharm": {
     "name": "#%%\n"
    }
   }
  },
  {
   "cell_type": "code",
   "execution_count": null,
   "outputs": [],
   "source": [
    "fig = plt.figure()\n",
    "\n",
    "x1 = df.index\n",
    "price = df['price']\n",
    "\n",
    "plt.plot(x1, price, label=\"exec\")\n",
    "\n",
    "plt.show()\n"
   ],
   "metadata": {
    "collapsed": false,
    "pycharm": {
     "name": "#%%\n"
    }
   }
  },
  {
   "cell_type": "code",
   "execution_count": null,
   "outputs": [],
   "source": [
    "\n",
    "price_diff =df['price'].resample('1T').mean().diff()\n",
    "\n",
    "price_diff"
   ],
   "metadata": {
    "collapsed": false,
    "pycharm": {
     "name": "#%%\n"
    }
   }
  },
  {
   "cell_type": "code",
   "execution_count": null,
   "outputs": [],
   "source": [
    "fig = plt.figure()\n",
    "\n",
    "x1 = df.index\n",
    "price = price_diff['price']\n",
    "\n",
    "plt.plot(x1, price, label=\"exec\")\n",
    "\n",
    "plt.show()\n"
   ],
   "metadata": {
    "collapsed": false,
    "pycharm": {
     "name": "#%%\n"
    }
   }
  },
  {
   "cell_type": "code",
   "execution_count": null,
   "outputs": [],
   "source": [
    "price_diff.describe()"
   ],
   "metadata": {
    "collapsed": false,
    "pycharm": {
     "name": "#%%\n"
    }
   }
  },
  {
   "cell_type": "markdown",
   "source": [
    "価格の分布"
   ],
   "metadata": {
    "collapsed": false
   }
  },
  {
   "cell_type": "code",
   "execution_count": null,
   "outputs": [],
   "source": [
    "data = np.array(df['price'])\n",
    "\n",
    "fig = plt.figure()\n",
    "plt.hist(data, bins=30)\n",
    "plt.show()\n",
    "#%"
   ],
   "metadata": {
    "collapsed": false,
    "pycharm": {
     "name": "#%%\n"
    }
   }
  },
  {
   "cell_type": "markdown",
   "source": [
    "価格の*差分*分布"
   ],
   "metadata": {
    "collapsed": false
   }
  },
  {
   "cell_type": "code",
   "execution_count": null,
   "outputs": [],
   "source": [
    "diff_df = df.diff()\n",
    "\n",
    "data = np.array(diff_df['price'])\n",
    "\n",
    "fig = plt.figure()\n",
    "plt.hist(data, bins=30)\n",
    "plt.show()\n",
    "#%\n"
   ],
   "metadata": {
    "collapsed": false,
    "pycharm": {
     "name": "#%%\n"
    }
   }
  },
  {
   "cell_type": "code",
   "execution_count": null,
   "outputs": [],
   "source": [],
   "metadata": {
    "collapsed": false,
    "pycharm": {
     "name": "#%%\n"
    }
   }
  }
 ],
 "metadata": {
  "kernelspec": {
   "name": "pycharm-9c763b57",
   "language": "python",
   "display_name": "PyCharm (bbanalyze)"
  },
  "language_info": {
   "codemirror_mode": {
    "name": "ipython",
    "version": 2
   },
   "file_extension": ".py",
   "mimetype": "text/x-python",
   "name": "python",
   "nbconvert_exporter": "python",
   "pygments_lexer": "ipython2",
   "version": "2.7.6"
  }
 },
 "nbformat": 4,
 "nbformat_minor": 0
}