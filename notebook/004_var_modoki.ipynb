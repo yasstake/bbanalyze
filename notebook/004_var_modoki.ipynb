{
 "cells": [
  {
   "cell_type": "markdown",
   "metadata": {
    "collapsed": true,
    "pycharm": {
     "name": "#%% md\n"
    }
   },
   "source": [
    "## VAP(Volume at Price)を計算しグラフ化する。"
   ]
  },
  {
   "cell_type": "code",
   "execution_count": 167,
   "outputs": [],
   "source": [
    "import os\n",
    "import datetime\n",
    "import pandas as pd\n",
    "from urllib import request\n",
    "\n",
    "def get_bb_log(yyyy, mm, dd, symbol=\"BTCUSD\"):\n",
    "    \"\"\"\n",
    "    bybitからパラメーターに指定された日付の約定データを/tmpにダウンロードする。\n",
    "    /tmpに一時保存することでキャッシュ機能を実現\n",
    "    :param yyyy: 年（４桁）\n",
    "    :param mm: 月\n",
    "    :param dd: 日\n",
    "    :param symbol: オプション：ディフォルトBTCUSD\n",
    "    :return: /tmpにダウンロードしたファイル名\n",
    "    \"\"\"\n",
    "    file_name = f'{symbol}{yyyy:04d}-{mm:02d}-{dd:02d}.csv.gz'\n",
    "    tmp_file = '/tmp/'+ file_name\n",
    "\n",
    "    if not os.path.exists(tmp_file):\n",
    "        download_url = f'https://public.bybit.com/trading/{symbol}/{file_name}'\n",
    "        print(\"download url=\", download_url)\n",
    "        request.urlretrieve(download_url, tmp_file)\n",
    "\n",
    "    return tmp_file\n",
    "\n",
    "def get_bb_df(yyyy, mm, dd):\n",
    "    \"\"\"\n",
    "    bybitから約定データをダウンロードしpandasのDataFrameオブジェクトにする。\n",
    "    :param yyyy: 年（４桁）\n",
    "    :param mm: 月\n",
    "    :param dd: 日\n",
    "    :return: 約定データが入ったDataFrame\n",
    "    \"\"\"\n",
    "    file = get_bb_log(yyyy, mm, dd)\n",
    "\n",
    "    bb_df = pd.read_csv(file, index_col=0)\n",
    "    bb_df.index = pd.to_datetime(bb_df.index, utc=True, unit='s')\n",
    "\n",
    "    return bb_df\n",
    "\n",
    "\n",
    "def resample_ohlcv(data, sample_time):\n",
    "    \"\"\"\n",
    "    約定データからohlcvを作成する。\n",
    "    timeに指定できるパラメータは文字列で以下のように指定する。\n",
    "    15秒:'15S' / 1分: '1T' / 1時間: '1H'\n",
    "    詳細はpadnasのドキュメント\n",
    "    https://pandas.pydata.org/pandas-docs/stable/user_guide/timeseries.html#offset-aliases\n",
    "    :param data:　bybitの約定データの入ったDataFrame\n",
    "    :param sample_time: サンプル間隔\n",
    "    :return: ohlcvデータ\n",
    "    \"\"\"\n",
    "    resample_df = data['price'].resample(sample_time).ohlc()\n",
    "    resample_df['volume'] = data['size'].resample(sample_time).sum()\n",
    "    return resample_df\n",
    "\n",
    "def get_bb_df_past_days(days=10, start_day = None):\n",
    "    \"\"\"\n",
    "    Bybitから過去から指定期間のデータをダウンロードしdfを返す。\n",
    "    データが生成できていない可能性があるので２日前までの期間のデータをダウンロードする。\n",
    "    :param days: データ取得期間\n",
    "    :param start_day: 開始時間（指定しない場合は今日からdays+2日前）\n",
    "    :return: 約定データが入ったdf\n",
    "    \"\"\"\n",
    "    if not start_day:\n",
    "        start_day = datetime.date.today() - datetime.timedelta(days=days+2)\n",
    "\n",
    "    print('start:', start_day, \"-> end:\", start_day + datetime.timedelta(days=days))\n",
    "\n",
    "    bb_df = None\n",
    "    for i in range(days):\n",
    "        target_day = start_day + datetime.timedelta(days=i)\n",
    "        download_df = get_bb_df(target_day.year, target_day.month, target_day.day)\n",
    "        if bb_df is None:\n",
    "            bb_df = download_df\n",
    "        else:\n",
    "            bb_df = bb_df.append(download_df)\n",
    "\n",
    "    return bb_df"
   ],
   "metadata": {
    "collapsed": false,
    "pycharm": {
     "name": "#%%\n"
    }
   }
  },
  {
   "cell_type": "code",
   "execution_count": 168,
   "outputs": [
    {
     "name": "stdout",
     "output_type": "stream",
     "text": [
      "start: 2021-10-01 -> end: 2021-10-02\n",
      "download url= https://public.bybit.com/trading/BTCUSD/BTCUSD2021-10-01.csv.gz\n"
     ]
    }
   ],
   "source": [
    "# 過去データの取得\n",
    "df = get_bb_df_past_days(1)\n"
   ],
   "metadata": {
    "collapsed": false,
    "pycharm": {
     "name": "#%%\n"
    }
   }
  },
  {
   "cell_type": "code",
   "execution_count": 169,
   "outputs": [
    {
     "data": {
      "text/plain": "<Figure size 432x288 with 1 Axes>",
      "image/png": "[encoded data removed]"
     },
     "metadata": {
      "needs_background": "light"
     },
     "output_type": "display_data"
    },
    {
     "data": {
      "text/plain": "<Figure size 432x288 with 1 Axes>",
      "image/png": "[encoded data removed]"
     },
     "metadata": {
      "needs_background": "light"
     },
     "output_type": "display_data"
    },
    {
     "data": {
      "text/plain": "<Figure size 432x288 with 1 Axes>",
      "image/png": "[encoded data removed]"
     },
     "metadata": {
      "needs_background": "light"
     },
     "output_type": "display_data"
    }
   ],
   "source": [
    "import matplotlib.pyplot as plt\n",
    "price = df['price']\n",
    "plt.plot(price)\n",
    "plt.show()\n",
    "\n",
    "plt.hist(price, bins=50)\n",
    "plt.show()\n",
    "\n",
    "price_diff = price.diff().dropna()\n",
    "plt.hist(price_diff, bins=100)\n",
    "plt.show()"
   ],
   "metadata": {
    "collapsed": false,
    "pycharm": {
     "name": "#%%\n"
    }
   }
  },
  {
   "cell_type": "code",
   "execution_count": 170,
   "outputs": [],
   "source": [
    "import numpy as np\n",
    "from sklearn.linear_model import LinearRegression\n",
    "\n",
    "def make_list(x):\n",
    "    g = x.groupby(['side', 'price'])['homeNotional'].sum()\n",
    "    return g\n"
   ],
   "metadata": {
    "collapsed": false,
    "pycharm": {
     "name": "#%%\n"
    }
   }
  },
  {
   "cell_type": "code",
   "execution_count": 171,
   "outputs": [
    {
     "name": "stdout",
     "output_type": "stream",
     "text": [
      "2021-10-01 23:59:38.311000064+00:00\n",
      "2021-10-01 23:59:59.305999872+00:00\n",
      "48131.5\n"
     ]
    }
   ],
   "source": [
    "chunk = df[0:100]\n",
    "\n",
    "print(chunk.index[len(chunk)-1])\n",
    "print(chunk.index[0])\n",
    "\n",
    "print(chunk.iloc[0]['price'])\n",
    "\n"
   ],
   "metadata": {
    "collapsed": false,
    "pycharm": {
     "name": "#%%\n"
    }
   }
  },
  {
   "cell_type": "code",
   "execution_count": 198,
   "outputs": [],
   "source": [
    "def calc_hist(x, prob_mode=False):\n",
    "    last_index = len(x) - 1\n",
    "\n",
    "    edge0 = x.index[0]\n",
    "    edge1 = x.index[last_index]\n",
    "\n",
    "    print('edge0', edge0)\n",
    "    print('edge1', edge1)\n",
    "\n",
    "    if edge0 < edge1:\n",
    "        start_time = edge0\n",
    "        start_price = x.iloc[0]['price']\n",
    "        print('start->', start_price)\n",
    "    else:\n",
    "        start_time = edge1\n",
    "        start_price = x.iloc[last_index]['price']\n",
    "        print('start->', start_price)\n",
    "\n",
    "\n",
    "    if prob_mode:\n",
    "        total = x['homeNotional'].sum()\n",
    "        r = x.groupby(['side', 'price'])['homeNotional'].sum()/total\n",
    "    else:\n",
    "        r = x.groupby(['side', 'price'])['homeNotional'].sum()\n",
    "\n",
    "    return start_price, r\n",
    "\n",
    "def pd_to_list(h, start, list_size):\n",
    "    l = []\n",
    "    plist = []\n",
    "\n",
    "    times = h.index.values.tolist()\n",
    "\n",
    "    for i in range(-list_size, list_size+1):\n",
    "        p = start+i/2\n",
    "        plist += [p]\n",
    "\n",
    "        if p in times:\n",
    "            l += [h[p]]\n",
    "        else:\n",
    "            l += [0]\n",
    "\n",
    "    return l, plist\n",
    "\n",
    "def make_hist_list(x, list_size=100, prob_mode = False):\n",
    "    start_price, r = calc_hist(x, prob_mode)\n",
    "\n",
    "    buy_list, plist = pd_to_list(r.xs('Buy', level='side'), start_price, list_size)\n",
    "    sell_list, plist = pd_to_list(r.xs('Sell', level='side'), start_price, list_size)\n",
    "\n",
    "    return start_price, buy_list, sell_list, plist"
   ],
   "metadata": {
    "collapsed": false,
    "pycharm": {
     "name": "#%%\n"
    }
   }
  },
  {
   "cell_type": "code",
   "execution_count": 199,
   "outputs": [
    {
     "name": "stdout",
     "output_type": "stream",
     "text": [
      "edge0 2021-10-01 23:03:57.855000064+00:00\n",
      "edge1 2021-10-01 22:59:59.569999872+00:00\n",
      "start-> 47982.5\n"
     ]
    },
    {
     "data": {
      "text/plain": "<Figure size 432x288 with 2 Axes>",
      "image/png": "[encoded data removed]"
     },
     "metadata": {
      "needs_background": "light"
     },
     "output_type": "display_data"
    }
   ],
   "source": [
    "sample = df[8000: 9000]\n",
    "\n",
    "s, l1, l2, plist = make_hist_list(sample, 200)\n",
    "\n",
    "fig = plt.figure()\n",
    "\n",
    "sp2 = fig.add_subplot(1, 2, 2)\n",
    "sp2.barh(plist, l1, color='Red')\n",
    "sp2.barh(plist, l2, color='Blue', left=l1)\n",
    "ymin, ymax = plt.ylim()\n",
    "\n",
    "sp1 = fig.add_subplot(1, 2, 1)\n",
    "sp1.plot(sample['price'])\n",
    "plt.ylim(ymin, ymax)\n",
    "\n",
    "\n",
    "plt.show()"
   ],
   "metadata": {
    "collapsed": false,
    "pycharm": {
     "name": "#%%\n"
    }
   }
  },
  {
   "cell_type": "code",
   "execution_count": 231,
   "outputs": [
    {
     "name": "stdout",
     "output_type": "stream",
     "text": [
      "timestamp\n",
      "2021-10-01 00:00:00+00:00    (43800.0, [0, 0, 0, 0, 0, 0, 0, 0, 0, 0, 0, 0,...\n",
      "2021-10-01 00:01:00+00:00    (43800.0, [0, 0, 0, 0, 0, 0, 0, 0, 0, 0, 0, 0,...\n",
      "2021-10-01 00:02:00+00:00    (43845.5, [8.446201329398305e-08, 4.0034994301...\n",
      "2021-10-01 00:03:00+00:00    (43948.5, [0, 0, 0, 0, 0, 0, 0, 0, 0, 0, 0, 0,...\n",
      "2021-10-01 00:04:00+00:00    (43957.0, [0, 0, 0, 0, 0, 0, 0, 0, 0, 0, 0, 0,...\n",
      "                                                   ...                        \n",
      "2021-10-01 23:55:00+00:00    (48076.0, [0, 0, 0, 0, 0, 0, 0, 0, 0, 0, 0, 0,...\n",
      "2021-10-01 23:56:00+00:00    (48059.5, [0, 0, 0, 0, 0, 0, 0, 0, 0, 0, 0, 0,...\n",
      "2021-10-01 23:57:00+00:00    (48086.5, [0, 0, 0, 0, 0, 0, 0, 0, 0, 0, 0, 0,...\n",
      "2021-10-01 23:58:00+00:00    (48117.5, [0, 0, 0, 0, 0, 0, 0, 0, 0, 0, 0, 0,...\n",
      "2021-10-01 23:59:00+00:00    (48118.0, [0, 0, 0, 0, 0, 0, 0, 0, 0, 0, 0, 0,...\n",
      "Freq: T, Length: 1440, dtype: object\n"
     ]
    }
   ],
   "source": [
    "def make_array(s, start_price, list_size=100):\n",
    "    array = []\n",
    "\n",
    "    times = s.index.values.tolist()\n",
    "\n",
    "    for i in range(-list_size, list_size+1):\n",
    "        p = start_price+i/2\n",
    "\n",
    "        if p in times:\n",
    "            array += [s[p]]\n",
    "        else:\n",
    "            array += [0]\n",
    "\n",
    "    return array\n",
    "\n",
    "\n",
    "\n",
    "\n",
    "def show(x):\n",
    "    start_price = x['price'].iloc[0]\n",
    "    total = x['homeNotional'].sum()\n",
    "    r = x.groupby(['side', 'price'])['homeNotional'].sum()/total\n",
    "\n",
    "    buy = r.xs('Sell', level='side')\n",
    "    sell = r.xs('Sell', level='side')\n",
    "\n",
    "    buy_array = make_array(buy, start_price)\n",
    "    sell_array = make_array(sell, start_price)\n",
    "\n",
    "    return start_price, buy_array, sell_array\n",
    "\n",
    "\n",
    "resample = df.resample('1T')\n",
    "\n",
    "print(resample.apply(show))\n",
    "\n",
    "\n"
   ],
   "metadata": {
    "collapsed": false,
    "pycharm": {
     "name": "#%%\n"
    }
   }
  },
  {
   "cell_type": "code",
   "execution_count": 190,
   "outputs": [
    {
     "name": "stdout",
     "output_type": "stream",
     "text": [
      "timestamp                  side  price  \n",
      "2021-10-01 00:01:00+00:00  Buy   43800.0    83607\n",
      "                                 43800.5       48\n",
      "                                 43801.0     6618\n",
      "                                 43801.5     1224\n",
      "                                 43802.0     1117\n",
      "                                            ...  \n",
      "                           Sell  43822.0        4\n",
      "                                 43823.0        3\n",
      "                                 43825.5       23\n",
      "                                 43828.5       12\n",
      "                                 43841.5     5644\n",
      "Name: homeNotional, Length: 88, dtype: int64\n",
      "MultiIndex([('2021-10-01 00:01:00+00:00',  'Buy', 43800.0),\n",
      "            ('2021-10-01 00:01:00+00:00',  'Buy', 43800.5),\n",
      "            ('2021-10-01 00:01:00+00:00',  'Buy', 43801.0),\n",
      "            ('2021-10-01 00:01:00+00:00',  'Buy', 43801.5),\n",
      "            ('2021-10-01 00:01:00+00:00',  'Buy', 43802.0),\n",
      "            ('2021-10-01 00:01:00+00:00',  'Buy', 43803.0),\n",
      "            ('2021-10-01 00:01:00+00:00',  'Buy', 43803.5),\n",
      "            ('2021-10-01 00:01:00+00:00',  'Buy', 43804.0),\n",
      "            ('2021-10-01 00:01:00+00:00',  'Buy', 43804.5),\n",
      "            ('2021-10-01 00:01:00+00:00',  'Buy', 43805.0),\n",
      "            ('2021-10-01 00:01:00+00:00',  'Buy', 43805.5),\n",
      "            ('2021-10-01 00:01:00+00:00',  'Buy', 43806.0),\n",
      "            ('2021-10-01 00:01:00+00:00',  'Buy', 43806.5),\n",
      "            ('2021-10-01 00:01:00+00:00',  'Buy', 43807.0),\n",
      "            ('2021-10-01 00:01:00+00:00',  'Buy', 43807.5),\n",
      "            ('2021-10-01 00:01:00+00:00',  'Buy', 43808.0),\n",
      "            ('2021-10-01 00:01:00+00:00',  'Buy', 43808.5),\n",
      "            ('2021-10-01 00:01:00+00:00',  'Buy', 43809.0),\n",
      "            ('2021-10-01 00:01:00+00:00',  'Buy', 43809.5),\n",
      "            ('2021-10-01 00:01:00+00:00',  'Buy', 43810.0),\n",
      "            ('2021-10-01 00:01:00+00:00',  'Buy', 43812.0),\n",
      "            ('2021-10-01 00:01:00+00:00',  'Buy', 43814.0),\n",
      "            ('2021-10-01 00:01:00+00:00',  'Buy', 43815.0),\n",
      "            ('2021-10-01 00:01:00+00:00',  'Buy', 43815.5),\n",
      "            ('2021-10-01 00:01:00+00:00',  'Buy', 43816.0),\n",
      "            ('2021-10-01 00:01:00+00:00',  'Buy', 43816.5),\n",
      "            ('2021-10-01 00:01:00+00:00',  'Buy', 43817.0),\n",
      "            ('2021-10-01 00:01:00+00:00',  'Buy', 43817.5),\n",
      "            ('2021-10-01 00:01:00+00:00',  'Buy', 43818.0),\n",
      "            ('2021-10-01 00:01:00+00:00',  'Buy', 43818.5),\n",
      "            ('2021-10-01 00:01:00+00:00',  'Buy', 43819.0),\n",
      "            ('2021-10-01 00:01:00+00:00',  'Buy', 43819.5),\n",
      "            ('2021-10-01 00:01:00+00:00',  'Buy', 43820.0),\n",
      "            ('2021-10-01 00:01:00+00:00',  'Buy', 43820.5),\n",
      "            ('2021-10-01 00:01:00+00:00',  'Buy', 43821.0),\n",
      "            ('2021-10-01 00:01:00+00:00',  'Buy', 43821.5),\n",
      "            ('2021-10-01 00:01:00+00:00',  'Buy', 43822.0),\n",
      "            ('2021-10-01 00:01:00+00:00',  'Buy', 43822.5),\n",
      "            ('2021-10-01 00:01:00+00:00',  'Buy', 43823.0),\n",
      "            ('2021-10-01 00:01:00+00:00',  'Buy', 43823.5),\n",
      "            ('2021-10-01 00:01:00+00:00',  'Buy', 43824.0),\n",
      "            ('2021-10-01 00:01:00+00:00',  'Buy', 43824.5),\n",
      "            ('2021-10-01 00:01:00+00:00',  'Buy', 43825.0),\n",
      "            ('2021-10-01 00:01:00+00:00',  'Buy', 43825.5),\n",
      "            ('2021-10-01 00:01:00+00:00',  'Buy', 43826.0),\n",
      "            ('2021-10-01 00:01:00+00:00',  'Buy', 43826.5),\n",
      "            ('2021-10-01 00:01:00+00:00',  'Buy', 43827.0),\n",
      "            ('2021-10-01 00:01:00+00:00',  'Buy', 43827.5),\n",
      "            ('2021-10-01 00:01:00+00:00',  'Buy', 43828.0),\n",
      "            ('2021-10-01 00:01:00+00:00',  'Buy', 43828.5),\n",
      "            ('2021-10-01 00:01:00+00:00',  'Buy', 43829.0),\n",
      "            ('2021-10-01 00:01:00+00:00',  'Buy', 43829.5),\n",
      "            ('2021-10-01 00:01:00+00:00',  'Buy', 43830.0),\n",
      "            ('2021-10-01 00:01:00+00:00',  'Buy', 43830.5),\n",
      "            ('2021-10-01 00:01:00+00:00',  'Buy', 43831.0),\n",
      "            ('2021-10-01 00:01:00+00:00',  'Buy', 43831.5),\n",
      "            ('2021-10-01 00:01:00+00:00',  'Buy', 43832.0),\n",
      "            ('2021-10-01 00:01:00+00:00',  'Buy', 43832.5),\n",
      "            ('2021-10-01 00:01:00+00:00',  'Buy', 43833.0),\n",
      "            ('2021-10-01 00:01:00+00:00',  'Buy', 43833.5),\n",
      "            ('2021-10-01 00:01:00+00:00',  'Buy', 43834.0),\n",
      "            ('2021-10-01 00:01:00+00:00',  'Buy', 43834.5),\n",
      "            ('2021-10-01 00:01:00+00:00',  'Buy', 43835.0),\n",
      "            ('2021-10-01 00:01:00+00:00',  'Buy', 43835.5),\n",
      "            ('2021-10-01 00:01:00+00:00',  'Buy', 43836.0),\n",
      "            ('2021-10-01 00:01:00+00:00',  'Buy', 43836.5),\n",
      "            ('2021-10-01 00:01:00+00:00',  'Buy', 43837.0),\n",
      "            ('2021-10-01 00:01:00+00:00',  'Buy', 43837.5),\n",
      "            ('2021-10-01 00:01:00+00:00',  'Buy', 43838.0),\n",
      "            ('2021-10-01 00:01:00+00:00',  'Buy', 43838.5),\n",
      "            ('2021-10-01 00:01:00+00:00',  'Buy', 43839.0),\n",
      "            ('2021-10-01 00:01:00+00:00',  'Buy', 43840.0),\n",
      "            ('2021-10-01 00:01:00+00:00',  'Buy', 43840.5),\n",
      "            ('2021-10-01 00:01:00+00:00',  'Buy', 43841.5),\n",
      "            ('2021-10-01 00:01:00+00:00',  'Buy', 43842.0),\n",
      "            ('2021-10-01 00:01:00+00:00', 'Sell', 43799.5),\n",
      "            ('2021-10-01 00:01:00+00:00', 'Sell', 43803.0),\n",
      "            ('2021-10-01 00:01:00+00:00', 'Sell', 43803.5),\n",
      "            ('2021-10-01 00:01:00+00:00', 'Sell', 43807.0),\n",
      "            ('2021-10-01 00:01:00+00:00', 'Sell', 43816.0),\n",
      "            ('2021-10-01 00:01:00+00:00', 'Sell', 43817.0),\n",
      "            ('2021-10-01 00:01:00+00:00', 'Sell', 43819.0),\n",
      "            ('2021-10-01 00:01:00+00:00', 'Sell', 43819.5),\n",
      "            ('2021-10-01 00:01:00+00:00', 'Sell', 43822.0),\n",
      "            ('2021-10-01 00:01:00+00:00', 'Sell', 43823.0),\n",
      "            ('2021-10-01 00:01:00+00:00', 'Sell', 43825.5),\n",
      "            ('2021-10-01 00:01:00+00:00', 'Sell', 43828.5),\n",
      "            ('2021-10-01 00:01:00+00:00', 'Sell', 43841.5)],\n",
      "           names=['timestamp', 'side', 'price'])\n"
     ]
    }
   ],
   "source": [
    "d = data.loc[time_group[2], :]\n",
    "\n",
    "print(d)\n",
    "print(d.index)\n",
    "\n"
   ],
   "metadata": {
    "collapsed": false,
    "pycharm": {
     "name": "#%%\n"
    }
   }
  },
  {
   "cell_type": "code",
   "execution_count": null,
   "outputs": [],
   "source": [
    "make_hist_list(data.loc[time_group[2], :])"
   ],
   "metadata": {
    "collapsed": false,
    "pycharm": {
     "name": "#%%\n"
    }
   }
  },
  {
   "cell_type": "code",
   "execution_count": null,
   "outputs": [],
   "source": [
    "\n",
    "data_buy= data.xs(\"Buy\", level='side')\n",
    "data_sell= data.xs(\"Sell\", level='side')"
   ],
   "metadata": {
    "collapsed": false,
    "pycharm": {
     "name": "#%%\n"
    }
   }
  },
  {
   "cell_type": "code",
   "execution_count": 41,
   "outputs": [
    {
     "data": {
      "text/plain": "<Figure size 432x288 with 1 Axes>",
      "image/png": "[encoded data removed]"
     },
     "metadata": {
      "needs_background": "light"
     },
     "output_type": "display_data"
    }
   ],
   "source": [
    "plt.hist(data_buy)\n",
    "plt.show()"
   ],
   "metadata": {
    "collapsed": false,
    "pycharm": {
     "name": "#%%\n"
    }
   }
  }
 ],
 "metadata": {
  "kernelspec": {
   "name": "pycharm-9c763b57",
   "language": "python",
   "display_name": "PyCharm (bbanalyze)"
  },
  "language_info": {
   "codemirror_mode": {
    "name": "ipython",
    "version": 2
   },
   "file_extension": ".py",
   "mimetype": "text/x-python",
   "name": "python",
   "nbconvert_exporter": "python",
   "pygments_lexer": "ipython2",
   "version": "2.7.6"
  }
 },
 "nbformat": 4,
 "nbformat_minor": 0
}